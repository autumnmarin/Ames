{
 "cells": [
  {
   "cell_type": "code",
   "execution_count": 49,
   "metadata": {},
   "outputs": [],
   "source": [
    "import pandas as pd\n",
    "from sklearn.impute import SimpleImputer\n",
    "from sklearn.preprocessing import OneHotEncoder"
   ]
  },
  {
   "cell_type": "code",
   "execution_count": 50,
   "metadata": {},
   "outputs": [],
   "source": [
    "train_file_path = \"../data/raw/train.csv\"\n",
    "test_file_path = \"../data/raw/test.csv\"\n",
    "\n",
    "train = pd.read_csv(train_file_path)\n",
    "test = pd.read_csv(test_file_path)"
   ]
  },
  {
   "cell_type": "markdown",
   "metadata": {},
   "source": [
    "Outliers"
   ]
  },
  {
   "cell_type": "code",
   "execution_count": null,
   "metadata": {},
   "outputs": [],
   "source": [
    "\n",
    "# train.drop(train[train['GrLivArea'] > 4000].index, inplace=True)\n",
    "# train.drop(train[train['SalePrice'] < 40000].index, inplace=True)\n",
    "# train.drop(train[train['SalePrice'] > 500000].index, inplace=True)"
   ]
  },
  {
   "cell_type": "code",
   "execution_count": null,
   "metadata": {},
   "outputs": [
    {
     "name": "stdout",
     "output_type": "stream",
     "text": [
      "{'Id': [], 'MSSubClass': [190, 190, 180, 190, 190, 190, 190, 190, 190, 190, 190, 190, 180, 180, 190, 180, 190, 190, 180, 190, 190, 180, 190, 190, 190, 190, 190, 190, 190, 180, 190, 190, 190, 190, 190, 180, 190, 190, 180, 180], 'LotFrontage': [134.0, 141.0, 174.0, 174.0, 129.0, 140.0, 150.0, 130.0, 137.0, 144.0, 128.0, 149.0, 313.0, 130.0, 168.0, 182.0, 134.0, 138.0, 152.0, 124.0, 153.0, 129.0, 124.0], 'LotArea': [50271, 19900, 21000, 21453, 31770, 22950, 25419, 159000, 39104, 215245, 164660, 20431, 53107, 34650, 22420, 21750, 70761, 53227, 32668, 21872, 21780, 25095, 46589, 20896, 26178, 115149, 21695, 21384, 28698, 45600, 25286, 27650, 24090, 25000, 21286, 21750, 29959, 23257, 35133, 32463, 24682, 23595, 36500, 20781, 25339, 57200, 20544, 19690, 21930, 26142], 'OverallQual': [], 'OverallCond': [2, 9, 9, 9, 9, 2, 9, 1, 2, 2, 9, 9, 9, 9, 2, 9, 9, 9, 9, 9, 9, 9, 9, 9, 9, 9, 9, 9], 'YearBuilt': [], 'YearRemodAdd': [], 'MasVnrArea': [640.0, 650.0, 1031.0, 573.0, 1115.0, 576.0, 600.0, 768.0, 1129.0, 664.0, 653.0, 491.0, 922.0, 506.0, 604.0, 1600.0, 616.0, 870.0, 530.0, 500.0, 510.0, 650.0, 772.0, 562.0, 921.0, 594.0, 584.0, 513.0, 660.0, 528.0, 630.0, 651.0, 894.0, 513.0, 673.0, 860.0, 1047.0, 816.0, 541.0, 975.0, 571.0, 660.0, 766.0, 554.0, 632.0, 567.0, 621.0, 788.0, 564.0, 579.0, 705.0, 731.0], 'BsmtFinSF1': [], 'BsmtFinSF2': [32, 668, 486, 93, 491, 506, 712, 362, 41, 169, 869, 150, 670, 28, 1080, 181, 768, 215, 374, 208, 441, 184, 279, 306, 180, 712, 580, 690, 692, 228, 125, 1063, 620, 175, 820, 1474, 264, 479, 147, 232, 380, 544, 294, 258, 121, 180, 391, 531, 344, 713, 210, 311, 1120, 165, 532, 279, 96, 495, 180, 174, 1127, 139, 202, 645, 123, 551, 219, 606, 147, 612, 480, 182, 132, 336, 468, 287, 35, 499, 180, 180, 723, 119, 182, 40, 551, 117, 239, 80, 472, 64, 1057, 127, 630, 480, 128, 377, 764, 345, 539, 1085, 435, 823, 500, 290, 324, 634, 411, 841, 1061, 93, 466, 396, 354, 294, 149, 193, 117, 273, 465, 400, 468, 41, 682, 64, 557, 230, 106, 791, 240, 287, 547, 391, 469, 177, 108, 374, 600, 492, 211, 168, 96, 1031, 438, 375, 144, 81, 906, 608, 276, 661, 68, 173, 972, 105, 420, 469, 546, 334, 352, 872, 374, 110, 627, 163, 1029, 290], 'BsmtUnfSF': [2336, 2121, 2153, 2042, 2046, 2002], 'TotalBsmtSF': [2392, 3206, 3200, 2524, 2633], '1stFlrSF': [2392, 3228, 2515, 2898, 2524, 2633], '2ndFlrSF': [], 'LowQualFinSF': [360, 513, 234, 528, 572, 144, 392, 371, 390, 420, 473, 156, 515, 360, 80, 80, 53, 232, 481, 120, 514, 397, 479, 205, 80, 384], 'GrLivArea': [3222, 3608, 3112, 3493, 3228, 3194, 3395, 3140, 3082, 3086, 3447, 3238], 'BsmtFullBath': [], 'BsmtHalfBath': [1, 1, 1, 1, 1, 1, 1, 1, 1, 1, 1, 1, 1, 1, 1, 1, 1, 1, 1, 1, 1, 1, 1, 1, 1, 1, 1, 1, 1, 1, 1, 1, 1, 1, 1, 2, 1, 1, 1, 1, 1, 1, 1, 1, 1, 1, 1, 1, 1, 1, 1, 1, 1, 1, 2, 1, 1, 1, 1, 1, 1, 1, 1, 1, 1, 1, 1, 1, 1, 1, 1, 1, 1, 1, 1, 1, 1, 1, 1, 1, 1], 'FullBath': [], 'HalfBath': [], 'BedroomAbvGr': [6, 6, 6, 6, 8, 6, 6, 6], 'KitchenAbvGr': [2, 2, 2, 2, 3, 2, 2, 2, 2, 2, 2, 2, 2, 2, 2, 2, 2, 2, 2, 2, 2, 2, 2, 2, 2, 2, 2, 2, 2, 2, 2, 2, 2, 3, 2, 2, 2, 2, 2, 2, 2, 2, 2, 2, 0, 2, 2, 2, 2, 2, 2, 2, 2, 2, 2, 2, 2, 2, 2, 2, 2, 2, 2, 2, 2, 2, 2, 2], 'TotRmsAbvGrd': [12, 14, 12, 12, 12, 12, 12, 12, 12], 'Fireplaces': [], 'GarageYrBlt': [], 'GarageCars': [], 'GarageArea': [1390, 1134, 1220, 1248, 1356, 1069], 'WoodDeckSF': [857, 576, 574, 670, 536, 519, 517, 511, 550, 509, 728, 635, 668, 586, 736], 'OpenPorchSF': [213, 258, 234, 205, 228, 238, 260, 208, 228, 250, 214, 231, 285, 502, 274, 243, 235, 312, 267, 265, 288, 341, 247, 291, 312, 418, 240, 364, 207, 234, 252, 282, 224, 319, 244, 263, 304, 234, 240, 229, 211, 287, 207, 241, 547, 211, 262, 210, 236], 'EnclosedPorch': [272, 228, 205, 176, 205, 87, 172, 102, 37, 144, 64, 114, 202, 128, 156, 44, 77, 144, 192, 144, 140, 180, 228, 128, 183, 39, 184, 40, 552, 30, 126, 96, 60, 150, 120, 202, 77, 112, 252, 52, 224, 234, 144, 244, 268, 137, 24, 108, 294, 177, 218, 242, 91, 112, 160, 130, 184, 126, 169, 105, 34, 96, 248, 236, 120, 32, 80, 291, 184, 116, 158, 112, 210, 36, 156, 144, 200, 84, 148, 116, 120, 136, 102, 240, 54, 112, 39, 100, 36, 189, 293, 164, 40, 216, 239, 112, 252, 240, 180, 67, 90, 120, 56, 112, 129, 40, 98, 143, 216, 234, 112, 112, 70, 386, 154, 185, 156, 156, 134, 196, 264, 185, 275, 96, 120, 112, 116, 230, 254, 68, 194, 192, 34, 150, 164, 112, 224, 32, 318, 244, 48, 94, 138, 108, 112, 226, 192, 174, 228, 19, 170, 220, 128, 80, 115, 137, 192, 252, 112, 96, 176, 216, 176, 214, 280, 96, 116, 102, 190, 236, 192, 84, 330, 208, 145, 259, 126, 264, 81, 164, 42, 123, 162, 100, 286, 190, 168, 20, 301, 198, 96, 221, 112, 212, 50, 150, 168, 112, 160, 114, 216, 154, 99, 158, 216, 252, 112], '3SsnPorch': [320, 407, 130, 180, 168, 180, 140, 508, 238, 245, 196, 144, 144, 182, 168, 162, 23, 168, 216, 96, 216, 153, 290, 304], 'ScreenPorch': [176, 198, 291, 252, 99, 184, 168, 130, 142, 192, 410, 224, 266, 170, 154, 153, 144, 142, 128, 259, 160, 198, 271, 234, 184, 374, 192, 185, 182, 90, 144, 224, 396, 176, 140, 276, 192, 180, 161, 168, 145, 200, 122, 95, 144, 120, 60, 120, 126, 189, 260, 147, 385, 287, 200, 156, 100, 180, 216, 197, 204, 225, 192, 152, 175, 126, 312, 222, 265, 224, 322, 120, 190, 233, 63, 147, 180, 53, 143, 189, 189, 189, 192, 160, 160, 126, 100, 273, 180, 90, 288, 263, 224, 147, 120, 80, 163, 90, 288, 116, 259, 224, 216, 480, 120, 178, 440, 155, 168, 220, 119, 165, 40], 'PoolArea': [512, 648, 576, 519, 738], 'MiscVal': [700, 350, 700, 500, 400, 700, 480, 400, 400, 450, 450, 500, 450, 700, 400, 15500, 1200, 800, 480, 400, 2000, 2000, 600, 500, 600, 600, 3500, 500, 400, 450, 500, 1300, 1200, 500, 400, 54, 500, 400, 400, 2000, 620, 400, 560, 500, 700, 1400, 400, 8300, 600, 1150, 2000, 2500], 'MoSold': [], 'YrSold': [], 'SalePrice': [385000, 438780, 383970, 412500, 475000, 386250, 403000, 415298, 437154, 394432, 426000, 440000, 380000, 430000, 402861, 446261, 451950, 402000, 423000, 392000, 395000, 485000, 385000, 395192, 424870, 392500, 465000, 381000, 410000, 466500, 394617]}\n"
     ]
    }
   ],
   "source": [
    "outlier_dict = {}\n",
    "for col in train.columns:\n",
    "    if train[col].dtype != 'object':\n",
    "        q1, q3 = train[col].quantile([0.25, 0.75])\n",
    "        iqr = q3 - q1\n",
    "        lower_bound, upper_bound = q1 - 1.5 * iqr, q3 + 1.5 * iqr\n",
    "        outliers = train[(train[col] < lower_bound) | (train[col] > upper_bound)][col]\n",
    "        outlier_dict[col] = outliers.tolist()\n",
    "print(outlier_dict)"
   ]
  },
  {
   "cell_type": "code",
   "execution_count": null,
   "metadata": {},
   "outputs": [],
   "source": [
    "# Remove outliers defined in outlier_dict\n",
    "for col, outliers in outlier_dict.items():\n",
    "    for outlier in outliers:\n",
    "        train.drop(train[train[col] == outlier].index, inplace=True)\n",
    "\n"
   ]
  },
  {
   "cell_type": "markdown",
   "metadata": {},
   "source": [
    "Convert MSSubClass"
   ]
  },
  {
   "cell_type": "code",
   "execution_count": 54,
   "metadata": {},
   "outputs": [],
   "source": [
    "train['MSSubClass'] = train['MSSubClass'].astype(str)\n",
    "test['MSSubClass'] = test['MSSubClass'].astype(str)"
   ]
  },
  {
   "cell_type": "markdown",
   "metadata": {},
   "source": [
    "Missing Values"
   ]
  },
  {
   "cell_type": "code",
   "execution_count": 55,
   "metadata": {},
   "outputs": [
    {
     "name": "stdout",
     "output_type": "stream",
     "text": [
      "['PoolQC', 'MiscFeature', 'Alley', 'Fence', 'MasVnrType', 'FireplaceQu', 'LotFrontage']\n"
     ]
    }
   ],
   "source": [
    "def create_summary_table(df):\n",
    "    return pd.DataFrame({'Column': df.columns, 'Missing %': df.isnull().mean() * 100}).sort_values(by='Missing %', ascending=False)\n",
    "summary_table = create_summary_table(train)\n",
    "high_missing = summary_table[summary_table['Missing %'] > 10]['Column'].tolist()\n",
    "print(high_missing)\n",
    "train.drop(columns=high_missing, inplace=True)\n",
    "test.drop(columns=high_missing, inplace=True)"
   ]
  },
  {
   "cell_type": "markdown",
   "metadata": {},
   "source": [
    "Drop Sale Price"
   ]
  },
  {
   "cell_type": "code",
   "execution_count": 56,
   "metadata": {},
   "outputs": [],
   "source": [
    "if 'SalePrice' in train.columns:\n",
    "    y_train = train['SalePrice'].copy()\n",
    "    X_train = train.drop(columns=['SalePrice']).copy()\n",
    "else:\n",
    "    raise KeyError(\"SalePrice not found in train dataset.\")\n",
    "X_test = test.copy()"
   ]
  },
  {
   "cell_type": "markdown",
   "metadata": {},
   "source": [
    "Feature Engineering"
   ]
  },
  {
   "cell_type": "code",
   "execution_count": 57,
   "metadata": {},
   "outputs": [],
   "source": [
    "X_train['TotalBath'] = X_train['FullBath'] + X_train['HalfBath'] + X_train['BsmtFullBath'] + X_train['BsmtHalfBath']\n",
    "X_test['TotalBath'] = X_test['FullBath'] + X_test['HalfBath'] + X_test['BsmtFullBath'] + X_test['BsmtHalfBath']\n",
    "\n",
    "X_train['TotalSF'] = X_train['TotalBsmtSF'] + X_train['1stFlrSF'] + X_train['2ndFlrSF']\n",
    "X_test['TotalSF'] = X_test['TotalBsmtSF'] + X_test['1stFlrSF'] + X_test['2ndFlrSF']\n",
    "\n",
    "X_train['Age'] = X_train['YrSold'] - X_train['YearBuilt']\n",
    "X_test['Age'] = X_test['YrSold'] - X_test['YearBuilt']\n",
    "\n",
    "X_train['AgeSinceRemodel'] = X_train['YrSold'] - X_train['YearRemodAdd']\n",
    "X_test['AgeSinceRemodel'] = X_test['YrSold'] - X_test['YearRemodAdd']\n",
    "\n",
    "X_train['OverallQual*GrLivArea'] = X_train['OverallQual'] * X_train['GrLivArea']\n",
    "X_test['OverallQual*GrLivArea'] = X_test['OverallQual'] * X_test['GrLivArea']\n",
    "\n",
    "drop_cols = ['FullBath', 'HalfBath', 'BsmtFullBath', 'BsmtHalfBath', 'TotalBsmtSF', '1stFlrSF', '2ndFlrSF', 'YearBuilt', 'YrSold', 'YearRemodAdd', 'OverallQual']\n",
    "X_train.drop(columns=drop_cols, inplace=True)\n",
    "X_test.drop(columns=drop_cols, inplace=True)"
   ]
  },
  {
   "cell_type": "code",
   "execution_count": 58,
   "metadata": {},
   "outputs": [],
   "source": [
    "def encode_interior_features(X_train, X_test):\n",
    "    heating_qc_map = {\"NA\": 0, \"Po\": 1, \"Fa\": 2, \"TA\": 3, \"Gd\": 4, \"Ex\": 5}\n",
    "    kitchen_map = {\"NA\": 0, \"Po\": 1, \"Fa\": 2, \"TA\": 3, \"Gd\": 4, \"Ex\": 5}\n",
    "    X_train[\"HeatingQC\"] = X_train[\"HeatingQC\"].fillna(\"NA\").map(heating_qc_map).fillna(0).astype(int)\n",
    "    X_test[\"HeatingQC\"] = X_test[\"HeatingQC\"].fillna(\"NA\").map(heating_qc_map).fillna(0).astype(int)\n",
    "    X_train[\"KitchenQual\"] = X_train[\"KitchenQual\"].fillna(\"NA\").map(kitchen_map).fillna(0).astype(int)\n",
    "    X_test[\"KitchenQual\"] = X_test[\"KitchenQual\"].fillna(\"NA\").map(kitchen_map).fillna(0).astype(int)\n",
    "    return X_train, X_test\n",
    "\n",
    "def encode_basement_features(X_train, X_test):\n",
    "    basement_mappings = {\n",
    "        \"BsmtQual\": {\"NA\": 0, \"Po\": 1, \"Fa\": 2, \"TA\": 3, \"Gd\": 4, \"Ex\": 5},\n",
    "        \"BsmtCond\": {\"NA\": 0, \"Po\": 1, \"Fa\": 2, \"TA\": 3, \"Gd\": 4, \"Ex\": 5},\n",
    "        \"BsmtExposure\": {\"NA\": 0, \"No\": 1, \"Mn\": 2, \"Av\": 3, \"Gd\": 4},\n",
    "        \"BsmtFinType1\": {\"NA\": 0, \"Unf\": 1, \"LwQ\": 2, \"Rec\": 3, \"BLQ\": 4, \"ALQ\": 5, \"GLQ\": 6},\n",
    "        \"BsmtFinType2\": {\"NA\": 0, \"Unf\": 1, \"LwQ\": 2, \"Rec\": 3, \"BLQ\": 4, \"ALQ\": 5, \"GLQ\": 6}\n",
    "    }\n",
    "    for col, mapping in basement_mappings.items():\n",
    "        X_train[col] = X_train[col].fillna(\"NA\").map(mapping).fillna(0).astype(int)\n",
    "        X_test[col] = X_test[col].fillna(\"NA\").map(mapping).fillna(0).astype(int)\n",
    "    return X_train, X_test\n",
    "\n",
    "def encode_exterior_features(X_train, X_test):\n",
    "    exter_qual_map = {\"NA\": 0, \"Po\": 1, \"Fa\": 2, \"TA\": 3, \"Gd\": 4, \"Ex\": 5}\n",
    "    paved_drive_map = {\"NA\": 0, \"N\": 1, \"P\": 2, \"Y\": 3}\n",
    "    for col, mapping in [(\"ExterQual\", exter_qual_map), (\"PavedDrive\", paved_drive_map)]:\n",
    "        X_train[col] = X_train[col].fillna(\"NA\").map(mapping).fillna(0).astype(int)\n",
    "        X_test[col] = X_test[col].fillna(\"NA\").map(mapping).fillna(0).astype(int)\n",
    "    roof_matl_map = {\"NA\": 0, \"Roll\": 1, \"Tar&Grv\": 2, \"Metal\": 3, \"Membran\": 4, \"ClyTile\": 5, \"WdShngl\": 6, \"WdShake\": 7, \"CompShg\": 8}\n",
    "    X_train[\"RoofMatl\"] = X_train[\"RoofMatl\"].fillna(\"NA\").map(roof_matl_map).fillna(0).astype(int)\n",
    "    X_test[\"RoofMatl\"] = X_test[\"RoofMatl\"].fillna(\"NA\").map(roof_matl_map).fillna(0).astype(int)\n",
    "    for col in [\"Exterior1st\", \"Exterior2nd\"]:\n",
    "        X_train[col] = X_train[col].fillna(\"NA\").astype(\"category\")\n",
    "        X_test[col] = X_test[col].fillna(\"NA\").astype(\"category\")\n",
    "        X_test[col] = X_test[col].cat.set_categories(X_train[col].cat.categories)\n",
    "        X_train[col] = X_train[col].cat.codes\n",
    "        X_test[col] = X_test[col].cat.codes\n",
    "    foundation_map = {\"NA\": 0, \"Wood\": 1, \"Slab\": 2, \"BrkTil\": 3, \"CBlock\": 4, \"PConc\": 5, \"Stone\": 6}\n",
    "    X_train[\"Foundation\"] = X_train[\"Foundation\"].fillna(\"NA\").map(foundation_map).fillna(0).astype(int)\n",
    "    X_test[\"Foundation\"] = X_test[\"Foundation\"].fillna(\"NA\").map(foundation_map).fillna(0).astype(int)\n",
    "    X_train[\"TotalPorchSF\"] = X_train[\"OpenPorchSF\"] + X_train[\"EnclosedPorch\"] + X_train[\"3SsnPorch\"] + X_train[\"ScreenPorch\"]\n",
    "    X_test[\"TotalPorchSF\"] = X_test[\"OpenPorchSF\"] + X_test[\"EnclosedPorch\"] + X_test[\"3SsnPorch\"] + X_test[\"ScreenPorch\"]\n",
    "    X_train[\"MasVnrArea\"] = X_train[\"MasVnrArea\"].fillna(0)\n",
    "    X_test[\"MasVnrArea\"] = X_test[\"MasVnrArea\"].fillna(0)\n",
    "    return X_train, X_test\n",
    "\n",
    "def encode_garage_features(X_train, X_test):\n",
    "    garage_mappings = {\n",
    "        \"GarageFinish\": {\"NA\": 0, \"Unf\": 1, \"RFn\": 2, \"Fin\": 3},\n",
    "        \"GarageQual\": {\"NA\": 0, \"Po\": 1, \"Fa\": 2, \"TA\": 3, \"Gd\": 4, \"Ex\": 5},\n",
    "        \"GarageType\": {\"NA\": 0, \"CarPort\": 1, \"Detchd\": 2, \"Attchd\": 3, \"Basment\": 4, \"BuiltIn\": 5, \"2Types\": 6}\n",
    "    }\n",
    "    for col, mapping in garage_mappings.items():\n",
    "        X_train[col] = X_train[col].fillna(\"NA\").map(mapping).fillna(0).astype(int)\n",
    "        X_test[col] = X_test[col].fillna(\"NA\").map(mapping).fillna(0).astype(int)\n",
    "    return X_train, X_test\n",
    "\n",
    "def encode_all_features(X_train, X_test):\n",
    "    X_train, X_test = encode_interior_features(X_train, X_test)\n",
    "    X_train, X_test = encode_basement_features(X_train, X_test)\n",
    "    X_train, X_test = encode_exterior_features(X_train, X_test)\n",
    "    X_train, X_test = encode_garage_features(X_train, X_test)\n",
    "    return X_train, X_test\n"
   ]
  },
  {
   "cell_type": "code",
   "execution_count": 59,
   "metadata": {},
   "outputs": [],
   "source": [
    "X_train, X_test = encode_all_features(X_train, X_test)"
   ]
  },
  {
   "cell_type": "markdown",
   "metadata": {},
   "source": [
    "One Hot Encoding"
   ]
  },
  {
   "cell_type": "code",
   "execution_count": 60,
   "metadata": {},
   "outputs": [],
   "source": [
    "num_cols = X_train.select_dtypes(include=['float64', 'int64']).columns\n",
    "cat_cols = X_train.select_dtypes(include=['object']).columns\n",
    "\n",
    "num_imputer = SimpleImputer(strategy='mean')\n",
    "\n",
    "X_train[num_cols] = num_imputer.fit_transform(X_train[num_cols])\n",
    "X_test[num_cols] = num_imputer.transform(X_test[num_cols])\n",
    "\n",
    "encoder = OneHotEncoder(handle_unknown='ignore', sparse_output=False)\n",
    "train_encoded = encoder.fit_transform(X_train[cat_cols])\n",
    "test_encoded = encoder.transform(X_test[cat_cols])\n",
    "\n",
    "train_encoded_df = pd.DataFrame(train_encoded, columns=encoder.get_feature_names_out(cat_cols), index=X_train.index)\n",
    "test_encoded_df = pd.DataFrame(test_encoded, columns=encoder.get_feature_names_out(cat_cols), index=X_test.index)\n",
    "\n",
    "for col in set(train_encoded_df.columns) - set(test_encoded_df.columns):\n",
    "    test_encoded_df[col] = 0\n",
    "test_encoded_df = test_encoded_df[train_encoded_df.columns]\n",
    "\n",
    "X_train.drop(columns=cat_cols, inplace=True)\n",
    "X_test.drop(columns=cat_cols, inplace=True)\n",
    "X_train = pd.concat([X_train, train_encoded_df], axis=1)\n",
    "X_test = pd.concat([X_test, test_encoded_df], axis=1)\n"
   ]
  },
  {
   "cell_type": "code",
   "execution_count": 61,
   "metadata": {},
   "outputs": [
    {
     "name": "stdout",
     "output_type": "stream",
     "text": [
      "Index([], dtype='object')\n"
     ]
    }
   ],
   "source": [
    "# print the X test object column\n",
    "print(X_test.select_dtypes(include=['object']).columns)\n"
   ]
  },
  {
   "cell_type": "code",
   "execution_count": 62,
   "metadata": {},
   "outputs": [
    {
     "name": "stdout",
     "output_type": "stream",
     "text": [
      "float64    178\n",
      "int32       14\n",
      "int8         2\n",
      "Name: count, dtype: int64\n"
     ]
    }
   ],
   "source": [
    "# Check sum of data types in X_train and X_test\n",
    "print(X_test.dtypes.value_counts())\n",
    "\n"
   ]
  },
  {
   "cell_type": "code",
   "execution_count": 63,
   "metadata": {},
   "outputs": [],
   "source": [
    "X_train.to_csv('../data/processed/X_train_eng.csv', index=False)\n",
    "y_train.to_csv('../data/processed/y_train_eng.csv', index=False)\n",
    "X_test.to_csv('../data/processed/X_test_eng.csv', index=False)"
   ]
  }
 ],
 "metadata": {
  "kernelspec": {
   "display_name": "tfdf_env",
   "language": "python",
   "name": "python3"
  },
  "language_info": {
   "codemirror_mode": {
    "name": "ipython",
    "version": 3
   },
   "file_extension": ".py",
   "mimetype": "text/x-python",
   "name": "python",
   "nbconvert_exporter": "python",
   "pygments_lexer": "ipython3",
   "version": "3.9.21"
  }
 },
 "nbformat": 4,
 "nbformat_minor": 4
}
