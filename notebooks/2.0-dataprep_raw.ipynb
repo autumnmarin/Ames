{
 "cells": [
  {
   "cell_type": "code",
   "execution_count": 1,
   "metadata": {},
   "outputs": [],
   "source": [
    "import pandas as pd\n",
    "from sklearn.impute import SimpleImputer\n",
    "from sklearn.preprocessing import OneHotEncoder"
   ]
  },
  {
   "cell_type": "code",
   "execution_count": 2,
   "metadata": {},
   "outputs": [],
   "source": [
    "train_file_path = \"../data/raw/train.csv\"\n",
    "test_file_path = \"../data/raw/test.csv\"\n",
    "\n",
    "train = pd.read_csv(train_file_path)\n",
    "test = pd.read_csv(test_file_path)"
   ]
  },
  {
   "cell_type": "markdown",
   "metadata": {},
   "source": [
    "Outliers"
   ]
  },
  {
   "cell_type": "code",
   "execution_count": null,
   "metadata": {},
   "outputs": [],
   "source": [
    "outliers = train[train['GrLivArea'] > 4000].index\n",
    "train.drop(outliers, inplace=True)"
   ]
  },
  {
   "cell_type": "markdown",
   "metadata": {},
   "source": [
    "Missing Values:"
   ]
  },
  {
   "cell_type": "code",
   "execution_count": 4,
   "metadata": {},
   "outputs": [
    {
     "name": "stdout",
     "output_type": "stream",
     "text": [
      "['PoolQC', 'MiscFeature', 'Alley', 'Fence', 'MasVnrType', 'FireplaceQu', 'LotFrontage']\n"
     ]
    }
   ],
   "source": [
    "def create_summary_table(df):\n",
    "    summary_df = pd.DataFrame({\n",
    "        'Column': df.columns,\n",
    "        'Missing %': df.isnull().mean() * 100\n",
    "    }).sort_values(by='Missing %', ascending=False)\n",
    "    return summary_df\n",
    "\n",
    "summary_table = create_summary_table(train)\n",
    "columns_highmissing = summary_table[summary_table['Missing %'] > 10]['Column'].tolist()\n",
    "print(columns_highmissing)\n",
    "\n",
    "train.drop(columns=columns_highmissing, axis=1, inplace=True)\n",
    "test.drop(columns=columns_highmissing, axis=1, inplace=True)"
   ]
  },
  {
   "cell_type": "markdown",
   "metadata": {},
   "source": [
    "Drop SalePrice"
   ]
  },
  {
   "cell_type": "code",
   "execution_count": 5,
   "metadata": {},
   "outputs": [],
   "source": [
    "if 'SalePrice' in train.columns:\n",
    "    y_train = train['SalePrice'].copy()  \n",
    "    X_train = train.drop(columns=['SalePrice']).copy()\n",
    "else:\n",
    "    raise KeyError(\"SalePrice not found in train dataset.\")\n",
    "\n",
    "X_test = test.copy()"
   ]
  },
  {
   "cell_type": "markdown",
   "metadata": {},
   "source": [
    "Separate numerical and categorical columns"
   ]
  },
  {
   "cell_type": "code",
   "execution_count": 6,
   "metadata": {},
   "outputs": [],
   "source": [
    "num_cols = X_train.select_dtypes(include=['float64', 'int64']).columns\n",
    "cat_cols = X_train.select_dtypes(include=['object']).columns\n",
    "\n",
    "num_imputer = SimpleImputer(strategy='mean')\n",
    "X_train[num_cols] = num_imputer.fit_transform(X_train[num_cols])\n",
    "X_test[num_cols] = num_imputer.transform(X_test[num_cols])"
   ]
  },
  {
   "cell_type": "markdown",
   "metadata": {},
   "source": [
    "One Hot Encoding"
   ]
  },
  {
   "cell_type": "code",
   "execution_count": 7,
   "metadata": {},
   "outputs": [],
   "source": [
    "encoder = OneHotEncoder(handle_unknown='ignore', sparse_output=False)\n",
    "train_encoded = encoder.fit_transform(X_train[cat_cols])\n",
    "test_encoded = encoder.transform(X_test[cat_cols])\n",
    "\n",
    "train_encoded_df = pd.DataFrame(train_encoded, columns=encoder.get_feature_names_out(cat_cols), index=X_train.index)\n",
    "test_encoded_df = pd.DataFrame(test_encoded, columns=encoder.get_feature_names_out(cat_cols), index=X_test.index)\n",
    "\n",
    "missing_cols = set(train_encoded_df.columns) - set(test_encoded_df.columns)\n",
    "for col in missing_cols:\n",
    "    test_encoded_df[col] = 0\n",
    "test_encoded_df = test_encoded_df[train_encoded_df.columns]\n",
    "\n",
    "X_train.drop(columns=cat_cols, inplace=True)\n",
    "X_test.drop(columns=cat_cols, inplace=True)\n",
    "\n",
    "X_train = pd.concat([X_train, train_encoded_df], axis=1)\n",
    "X_test = pd.concat([X_test, test_encoded_df], axis=1)"
   ]
  },
  {
   "cell_type": "code",
   "execution_count": 8,
   "metadata": {},
   "outputs": [],
   "source": [
    "X_train.to_csv('../data/processed/X_train.csv', index=False)\n",
    "y_train.to_csv('../data/processed/y_train.csv', index=False)\n",
    "X_test.to_csv('../data/processed/X_test.csv', index=False)"
   ]
  }
 ],
 "metadata": {
  "kernelspec": {
   "display_name": "tfdf_env",
   "language": "python",
   "name": "python3"
  },
  "language_info": {
   "codemirror_mode": {
    "name": "ipython",
    "version": 3
   },
   "file_extension": ".py",
   "mimetype": "text/x-python",
   "name": "python",
   "nbconvert_exporter": "python",
   "pygments_lexer": "ipython3",
   "version": "3.9.21"
  }
 },
 "nbformat": 4,
 "nbformat_minor": 4
}
