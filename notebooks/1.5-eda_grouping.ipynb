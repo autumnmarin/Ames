{
 "cells": [
  {
   "cell_type": "code",
   "execution_count": 153,
   "metadata": {
    "execution": {
     "iopub.execute_input": "2024-06-01T18:12:43.597336Z",
     "iopub.status.busy": "2024-06-01T18:12:43.594905Z",
     "iopub.status.idle": "2024-06-01T18:12:43.608496Z",
     "shell.execute_reply": "2024-06-01T18:12:43.606836Z",
     "shell.execute_reply.started": "2024-06-01T18:12:43.597251Z"
    },
    "id": "IGmyjJJatzBZ",
    "papermill": {
     "duration": 8.300496,
     "end_time": "2023-03-07T06:21:48.118668",
     "exception": false,
     "start_time": "2023-03-07T06:21:39.818172",
     "status": "completed"
    },
    "tags": [],
    "trusted": true
   },
   "outputs": [],
   "source": [
    "import pandas as pd\n",
    "import numpy as np\n",
    "import seaborn as sns\n",
    "import matplotlib.pyplot as plt"
   ]
  },
  {
   "cell_type": "code",
   "execution_count": 154,
   "metadata": {
    "execution": {
     "iopub.execute_input": "2024-06-01T18:13:49.092645Z",
     "iopub.status.busy": "2024-06-01T18:13:49.090551Z",
     "iopub.status.idle": "2024-06-01T18:13:49.153583Z",
     "shell.execute_reply": "2024-06-01T18:13:49.152041Z",
     "shell.execute_reply.started": "2024-06-01T18:13:49.092565Z"
    },
    "id": "JVMPH_IDOBH2",
    "papermill": {
     "duration": 0.066785,
     "end_time": "2023-03-07T06:21:48.245226",
     "exception": false,
     "start_time": "2023-03-07T06:21:48.178441",
     "status": "completed"
    },
    "tags": [],
    "trusted": true
   },
   "outputs": [],
   "source": [
    "train_file_path = \"../data/raw/train.csv\"\n",
    "test_file_path = \"../data/raw/test.csv\"\n",
    "variable_notes_path = \"../data/external/variable_notes.csv\"\n",
    "\n",
    "train = pd.read_csv(train_file_path)\n",
    "test = pd.read_csv(test_file_path)\n",
    "variable_notes = pd.read_csv(variable_notes_path)\n",
    "\n",
    "train.drop(\"Id\", axis=1, inplace=True)"
   ]
  },
  {
   "cell_type": "code",
   "execution_count": 155,
   "metadata": {},
   "outputs": [
    {
     "name": "stdout",
     "output_type": "stream",
     "text": [
      "\n",
      "Feature Categories and Associated Columns:\n",
      "\n",
      "basement:\n",
      "  - BsmtFinSF1\n",
      "  - BsmtUnfSF\n",
      "  - BsmtCond\n",
      "  - BsmtExposure\n",
      "  - BsmtFinType1\n",
      "  - BsmtFinType2\n",
      "  - BsmtFullBath\n",
      "  - BsmtHalfBath\n",
      "  - BsmtQual\n",
      "  - BsmtFinSF2\n",
      "  - TotalBsmtSF\n",
      "\n",
      "bath:\n",
      "  - FullBath\n",
      "  - HalfBath\n",
      "\n",
      "exterior:\n",
      "  - Exterior1st\n",
      "  - Exterior2nd\n",
      "  - MasVnrType\n",
      "  - ExterCond\n",
      "  - ExterQual\n",
      "  - MasVnrArea\n",
      "  - PavedDrive\n",
      "  - WoodDeckSF\n",
      "\n",
      "fireplace:\n",
      "  - Fireplaces\n",
      "\n",
      "garage:\n",
      "  - GarageCond\n",
      "  - GarageFinish\n",
      "  - GarageQual\n",
      "  - GarageType\n",
      "  - GarageYrBlt\n",
      "  - GarageArea\n",
      "  - GarageCars\n",
      "\n",
      "general:\n",
      "  - MSSubClass\n",
      "  - HouseStyle\n",
      "  - MSZoning\n",
      "  - Functional\n",
      "  - MiscVal\n",
      "  - Neighborhood\n",
      "  - OverallCond\n",
      "  - OverallQual\n",
      "  - Utilities\n",
      "  - YearRemodAdd\n",
      "\n",
      "high missing:\n",
      "  - FireplaceQu\n",
      "  - Alley\n",
      "  - Fence\n",
      "  - MiscFeature\n",
      "  - PoolQC\n",
      "\n",
      "interior:\n",
      "  - BldgType\n",
      "  - CentralAir\n",
      "  - Heating\n",
      "  - Electrical\n",
      "  - HeatingQC\n",
      "  - 1stFlrSF\n",
      "  - 2ndFlrSF\n",
      "  - BedroomAbvGr\n",
      "  - GrLivArea\n",
      "  - LowQualFinSF\n",
      "  - TotRmsAbvGrd\n",
      "\n",
      "kitchen:\n",
      "  - KitchenQual\n",
      "  - KitchenAbvGr\n",
      "\n",
      "lot:\n",
      "  - LotConfig\n",
      "  - Condition1\n",
      "  - Condition2\n",
      "  - LandContour\n",
      "  - LandSlope\n",
      "  - LotShape\n",
      "  - LotFrontage\n",
      "  - LotArea\n",
      "  - Street\n",
      "\n",
      "overall:\n",
      "  - Foundation\n",
      "  - YearBuilt\n",
      "\n",
      "pool:\n",
      "  - PoolArea\n",
      "\n",
      "porch:\n",
      "  - EnclosedPorch\n",
      "  - OpenPorchSF\n",
      "  - ScreenPorch\n",
      "  - 3SsnPorch\n",
      "\n",
      "roof:\n",
      "  - RoofMatl\n",
      "  - RoofStyle\n",
      "\n",
      "sale_info:\n",
      "  - MoSold\n",
      "  - SaleCondition\n",
      "  - SaleType\n",
      "  - YrSold\n"
     ]
    }
   ],
   "source": [
    "# Process variable notes for category mapping \n",
    "category_mapping = variable_notes.set_index(\"Column\")[\"category\"].fillna(\"Unknown\").to_dict()  \n",
    "from collections import defaultdict  \n",
    "category_columns = defaultdict(list)  \n",
    "for col, cat in category_mapping.items():  \n",
    "    category_columns[cat].append(col)  \n",
    "\n",
    "# Print feature categories and associated columns\n",
    "print(\"\\nFeature Categories and Associated Columns:\")\n",
    "for category, cols in category_columns.items():\n",
    "    print(f\"\\n{category}:\\n  - \" + \"\\n  - \".join(cols))  "
   ]
  },
  {
   "cell_type": "code",
   "execution_count": 156,
   "metadata": {},
   "outputs": [],
   "source": [
    "def display_column_info(df, column):\n",
    "    \"\"\"Display type and unique values of a column in the dataframe.\"\"\"\n",
    "    if column not in df.columns:\n",
    "        print(f\"Column '{column}' not found in dataframe.\")\n",
    "        return\n",
    "    \n",
    "    values = df[column].unique()\n",
    "    print(f\"\\nColumn: {column}\\nType: {df[column].dtype}\\nUnique Values: \" +\n",
    "          (\", \".join(map(str, values[:10])) + \"...\" if len(values) > 10 else \", \".join(map(str, values))))\n",
    "    print(\"-\" * 50)"
   ]
  },
  {
   "cell_type": "code",
   "execution_count": 158,
   "metadata": {},
   "outputs": [],
   "source": [
    "from IPython.display import display, HTML\n",
    "\n",
    "def display_category_info(df, category):\n",
    "    \"\"\"Display details and correlations for variables within a specified category in a prettier, more readable format.\"\"\"\n",
    "    if category not in category_columns:\n",
    "        display(HTML(f\"<p style='color:red; font-weight:bold;'>Category '{category}' not found.</p>\"))\n",
    "        return\n",
    "\n",
    "    cols = category_columns[category]\n",
    "    \n",
    "    # Create a formatted header using HTML\n",
    "    header_html = f\"\"\"\n",
    "    <div style=\"border: 2px solid #444; padding: 10px; margin-bottom: 10px; background-color: #f2f2f2;\">\n",
    "        <h2 style=\"margin: 0; color: #444;\">Category: {category.upper()}</h2>\n",
    "    </div>\n",
    "    \"\"\"\n",
    "    display(HTML(header_html))\n",
    "    \n",
    "    # Build a DataFrame listing each column with its correlation to 'SalePrice'\n",
    "    corr_values = []\n",
    "    if \"SalePrice\" in df.columns:\n",
    "        numeric_cols = df.select_dtypes(include=[np.number]).columns\n",
    "        for col in cols:\n",
    "            if col in numeric_cols:\n",
    "                corr = df[col].corr(df[\"SalePrice\"])\n",
    "                corr_values.append(corr)\n",
    "            else:\n",
    "                corr_values.append(np.nan)\n",
    "    else:\n",
    "        corr_values = [np.nan] * len(cols)\n",
    "    \n",
    "    cols_corr_df = pd.DataFrame({\n",
    "        \"Column\": cols,\n",
    "        \"Correlation with SalePrice\": [f\"{val:.3f}\" if pd.notnull(val) else \"--\" for val in corr_values]\n",
    "    })\n",
    "    \n",
    "    styled_table = cols_corr_df.style.set_table_styles(\n",
    "        [{\n",
    "            'selector': 'th',\n",
    "            'props': [('background-color', '#f7f7f7'),\n",
    "                      ('color', '#333'),\n",
    "                      ('font-weight', 'bold'),\n",
    "                      ('padding', '5px')]\n",
    "        },\n",
    "        {\n",
    "            'selector': 'td',\n",
    "            'props': [('padding', '5px')]\n",
    "        }]\n",
    "    ).set_caption(\"Columns and Correlations\")\n",
    "    \n",
    "    display(styled_table)\n",
    "    \n",
    "    # Display detailed information for each column\n",
    "    detail_header = \"\"\"\n",
    "    <h3 style=\"color:#444; border-bottom:1px solid #ccc; margin-bottom:10px;\">\n",
    "        Detailed Column Information:\n",
    "    </h3>\n",
    "    \"\"\"\n",
    "    display(HTML(detail_header))\n",
    "    \n",
    "    for col in cols:\n",
    "        sub_header = f\"\"\"\n",
    "        <h4 style=\"color:#666; margin-bottom:0;\">{col}</h4>\n",
    "        <hr style=\"border:0; border-bottom:1px solid #ccc; margin:5px 0 10px;\">\n",
    "        \"\"\"\n",
    "        display(HTML(sub_header))\n",
    "        display_column_info(df, col)\n"
   ]
  },
  {
   "cell_type": "code",
   "execution_count": 159,
   "metadata": {},
   "outputs": [
    {
     "data": {
      "text/html": [
       "\n",
       "    <div style=\"border: 2px solid #444; padding: 10px; margin-bottom: 10px; background-color: #f2f2f2;\">\n",
       "        <h2 style=\"margin: 0; color: #444;\">Category: BASEMENT</h2>\n",
       "    </div>\n",
       "    "
      ],
      "text/plain": [
       "<IPython.core.display.HTML object>"
      ]
     },
     "metadata": {},
     "output_type": "display_data"
    },
    {
     "data": {
      "text/html": [
       "<style type=\"text/css\">\n",
       "#T_5a82b th {\n",
       "  background-color: #f7f7f7;\n",
       "  color: #333;\n",
       "  font-weight: bold;\n",
       "  padding: 5px;\n",
       "}\n",
       "#T_5a82b td {\n",
       "  padding: 5px;\n",
       "}\n",
       "</style>\n",
       "<table id=\"T_5a82b\">\n",
       "  <caption>Columns and Correlations</caption>\n",
       "  <thead>\n",
       "    <tr>\n",
       "      <th class=\"blank level0\" >&nbsp;</th>\n",
       "      <th id=\"T_5a82b_level0_col0\" class=\"col_heading level0 col0\" >Column</th>\n",
       "      <th id=\"T_5a82b_level0_col1\" class=\"col_heading level0 col1\" >Correlation with SalePrice</th>\n",
       "    </tr>\n",
       "  </thead>\n",
       "  <tbody>\n",
       "    <tr>\n",
       "      <th id=\"T_5a82b_level0_row0\" class=\"row_heading level0 row0\" >0</th>\n",
       "      <td id=\"T_5a82b_row0_col0\" class=\"data row0 col0\" >BsmtFinSF1</td>\n",
       "      <td id=\"T_5a82b_row0_col1\" class=\"data row0 col1\" >0.386</td>\n",
       "    </tr>\n",
       "    <tr>\n",
       "      <th id=\"T_5a82b_level0_row1\" class=\"row_heading level0 row1\" >1</th>\n",
       "      <td id=\"T_5a82b_row1_col0\" class=\"data row1 col0\" >BsmtUnfSF</td>\n",
       "      <td id=\"T_5a82b_row1_col1\" class=\"data row1 col1\" >0.214</td>\n",
       "    </tr>\n",
       "    <tr>\n",
       "      <th id=\"T_5a82b_level0_row2\" class=\"row_heading level0 row2\" >2</th>\n",
       "      <td id=\"T_5a82b_row2_col0\" class=\"data row2 col0\" >BsmtCond</td>\n",
       "      <td id=\"T_5a82b_row2_col1\" class=\"data row2 col1\" >--</td>\n",
       "    </tr>\n",
       "    <tr>\n",
       "      <th id=\"T_5a82b_level0_row3\" class=\"row_heading level0 row3\" >3</th>\n",
       "      <td id=\"T_5a82b_row3_col0\" class=\"data row3 col0\" >BsmtExposure</td>\n",
       "      <td id=\"T_5a82b_row3_col1\" class=\"data row3 col1\" >--</td>\n",
       "    </tr>\n",
       "    <tr>\n",
       "      <th id=\"T_5a82b_level0_row4\" class=\"row_heading level0 row4\" >4</th>\n",
       "      <td id=\"T_5a82b_row4_col0\" class=\"data row4 col0\" >BsmtFinType1</td>\n",
       "      <td id=\"T_5a82b_row4_col1\" class=\"data row4 col1\" >--</td>\n",
       "    </tr>\n",
       "    <tr>\n",
       "      <th id=\"T_5a82b_level0_row5\" class=\"row_heading level0 row5\" >5</th>\n",
       "      <td id=\"T_5a82b_row5_col0\" class=\"data row5 col0\" >BsmtFinType2</td>\n",
       "      <td id=\"T_5a82b_row5_col1\" class=\"data row5 col1\" >--</td>\n",
       "    </tr>\n",
       "    <tr>\n",
       "      <th id=\"T_5a82b_level0_row6\" class=\"row_heading level0 row6\" >6</th>\n",
       "      <td id=\"T_5a82b_row6_col0\" class=\"data row6 col0\" >BsmtFullBath</td>\n",
       "      <td id=\"T_5a82b_row6_col1\" class=\"data row6 col1\" >0.227</td>\n",
       "    </tr>\n",
       "    <tr>\n",
       "      <th id=\"T_5a82b_level0_row7\" class=\"row_heading level0 row7\" >7</th>\n",
       "      <td id=\"T_5a82b_row7_col0\" class=\"data row7 col0\" >BsmtHalfBath</td>\n",
       "      <td id=\"T_5a82b_row7_col1\" class=\"data row7 col1\" >-0.017</td>\n",
       "    </tr>\n",
       "    <tr>\n",
       "      <th id=\"T_5a82b_level0_row8\" class=\"row_heading level0 row8\" >8</th>\n",
       "      <td id=\"T_5a82b_row8_col0\" class=\"data row8 col0\" >BsmtQual</td>\n",
       "      <td id=\"T_5a82b_row8_col1\" class=\"data row8 col1\" >--</td>\n",
       "    </tr>\n",
       "    <tr>\n",
       "      <th id=\"T_5a82b_level0_row9\" class=\"row_heading level0 row9\" >9</th>\n",
       "      <td id=\"T_5a82b_row9_col0\" class=\"data row9 col0\" >BsmtFinSF2</td>\n",
       "      <td id=\"T_5a82b_row9_col1\" class=\"data row9 col1\" >-0.011</td>\n",
       "    </tr>\n",
       "    <tr>\n",
       "      <th id=\"T_5a82b_level0_row10\" class=\"row_heading level0 row10\" >10</th>\n",
       "      <td id=\"T_5a82b_row10_col0\" class=\"data row10 col0\" >TotalBsmtSF</td>\n",
       "      <td id=\"T_5a82b_row10_col1\" class=\"data row10 col1\" >0.614</td>\n",
       "    </tr>\n",
       "  </tbody>\n",
       "</table>\n"
      ],
      "text/plain": [
       "<pandas.io.formats.style.Styler at 0x1d30562bc10>"
      ]
     },
     "metadata": {},
     "output_type": "display_data"
    },
    {
     "data": {
      "text/html": [
       "\n",
       "    <h3 style=\"color:#444; border-bottom:1px solid #ccc; margin-bottom:10px;\">\n",
       "        Detailed Column Information:\n",
       "    </h3>\n",
       "    "
      ],
      "text/plain": [
       "<IPython.core.display.HTML object>"
      ]
     },
     "metadata": {},
     "output_type": "display_data"
    },
    {
     "data": {
      "text/html": [
       "\n",
       "        <h4 style=\"color:#666; margin-bottom:0;\">BsmtFinSF1</h4>\n",
       "        <hr style=\"border:0; border-bottom:1px solid #ccc; margin:5px 0 10px;\">\n",
       "        "
      ],
      "text/plain": [
       "<IPython.core.display.HTML object>"
      ]
     },
     "metadata": {},
     "output_type": "display_data"
    },
    {
     "name": "stdout",
     "output_type": "stream",
     "text": [
      "\n",
      "Column: BsmtFinSF1\n",
      "Type: int64\n",
      "Unique Values: 706, 978, 486, 216, 655, 732, 1369, 859, 0, 851...\n",
      "--------------------------------------------------\n"
     ]
    },
    {
     "data": {
      "text/html": [
       "\n",
       "        <h4 style=\"color:#666; margin-bottom:0;\">BsmtUnfSF</h4>\n",
       "        <hr style=\"border:0; border-bottom:1px solid #ccc; margin:5px 0 10px;\">\n",
       "        "
      ],
      "text/plain": [
       "<IPython.core.display.HTML object>"
      ]
     },
     "metadata": {},
     "output_type": "display_data"
    },
    {
     "name": "stdout",
     "output_type": "stream",
     "text": [
      "\n",
      "Column: BsmtUnfSF\n",
      "Type: int64\n",
      "Unique Values: 150, 284, 434, 540, 490, 64, 317, 216, 952, 140...\n",
      "--------------------------------------------------\n"
     ]
    },
    {
     "data": {
      "text/html": [
       "\n",
       "        <h4 style=\"color:#666; margin-bottom:0;\">BsmtCond</h4>\n",
       "        <hr style=\"border:0; border-bottom:1px solid #ccc; margin:5px 0 10px;\">\n",
       "        "
      ],
      "text/plain": [
       "<IPython.core.display.HTML object>"
      ]
     },
     "metadata": {},
     "output_type": "display_data"
    },
    {
     "name": "stdout",
     "output_type": "stream",
     "text": [
      "\n",
      "Column: BsmtCond\n",
      "Type: object\n",
      "Unique Values: TA, Gd, nan, Fa, Po\n",
      "--------------------------------------------------\n"
     ]
    },
    {
     "data": {
      "text/html": [
       "\n",
       "        <h4 style=\"color:#666; margin-bottom:0;\">BsmtExposure</h4>\n",
       "        <hr style=\"border:0; border-bottom:1px solid #ccc; margin:5px 0 10px;\">\n",
       "        "
      ],
      "text/plain": [
       "<IPython.core.display.HTML object>"
      ]
     },
     "metadata": {},
     "output_type": "display_data"
    },
    {
     "name": "stdout",
     "output_type": "stream",
     "text": [
      "\n",
      "Column: BsmtExposure\n",
      "Type: object\n",
      "Unique Values: No, Gd, Mn, Av, nan\n",
      "--------------------------------------------------\n"
     ]
    },
    {
     "data": {
      "text/html": [
       "\n",
       "        <h4 style=\"color:#666; margin-bottom:0;\">BsmtFinType1</h4>\n",
       "        <hr style=\"border:0; border-bottom:1px solid #ccc; margin:5px 0 10px;\">\n",
       "        "
      ],
      "text/plain": [
       "<IPython.core.display.HTML object>"
      ]
     },
     "metadata": {},
     "output_type": "display_data"
    },
    {
     "name": "stdout",
     "output_type": "stream",
     "text": [
      "\n",
      "Column: BsmtFinType1\n",
      "Type: object\n",
      "Unique Values: GLQ, ALQ, Unf, Rec, BLQ, nan, LwQ\n",
      "--------------------------------------------------\n"
     ]
    },
    {
     "data": {
      "text/html": [
       "\n",
       "        <h4 style=\"color:#666; margin-bottom:0;\">BsmtFinType2</h4>\n",
       "        <hr style=\"border:0; border-bottom:1px solid #ccc; margin:5px 0 10px;\">\n",
       "        "
      ],
      "text/plain": [
       "<IPython.core.display.HTML object>"
      ]
     },
     "metadata": {},
     "output_type": "display_data"
    },
    {
     "name": "stdout",
     "output_type": "stream",
     "text": [
      "\n",
      "Column: BsmtFinType2\n",
      "Type: object\n",
      "Unique Values: Unf, BLQ, nan, ALQ, Rec, LwQ, GLQ\n",
      "--------------------------------------------------\n"
     ]
    },
    {
     "data": {
      "text/html": [
       "\n",
       "        <h4 style=\"color:#666; margin-bottom:0;\">BsmtFullBath</h4>\n",
       "        <hr style=\"border:0; border-bottom:1px solid #ccc; margin:5px 0 10px;\">\n",
       "        "
      ],
      "text/plain": [
       "<IPython.core.display.HTML object>"
      ]
     },
     "metadata": {},
     "output_type": "display_data"
    },
    {
     "name": "stdout",
     "output_type": "stream",
     "text": [
      "\n",
      "Column: BsmtFullBath\n",
      "Type: int64\n",
      "Unique Values: 1, 0, 2, 3\n",
      "--------------------------------------------------\n"
     ]
    },
    {
     "data": {
      "text/html": [
       "\n",
       "        <h4 style=\"color:#666; margin-bottom:0;\">BsmtHalfBath</h4>\n",
       "        <hr style=\"border:0; border-bottom:1px solid #ccc; margin:5px 0 10px;\">\n",
       "        "
      ],
      "text/plain": [
       "<IPython.core.display.HTML object>"
      ]
     },
     "metadata": {},
     "output_type": "display_data"
    },
    {
     "name": "stdout",
     "output_type": "stream",
     "text": [
      "\n",
      "Column: BsmtHalfBath\n",
      "Type: int64\n",
      "Unique Values: 0, 1, 2\n",
      "--------------------------------------------------\n"
     ]
    },
    {
     "data": {
      "text/html": [
       "\n",
       "        <h4 style=\"color:#666; margin-bottom:0;\">BsmtQual</h4>\n",
       "        <hr style=\"border:0; border-bottom:1px solid #ccc; margin:5px 0 10px;\">\n",
       "        "
      ],
      "text/plain": [
       "<IPython.core.display.HTML object>"
      ]
     },
     "metadata": {},
     "output_type": "display_data"
    },
    {
     "name": "stdout",
     "output_type": "stream",
     "text": [
      "\n",
      "Column: BsmtQual\n",
      "Type: object\n",
      "Unique Values: Gd, TA, Ex, nan, Fa\n",
      "--------------------------------------------------\n"
     ]
    },
    {
     "data": {
      "text/html": [
       "\n",
       "        <h4 style=\"color:#666; margin-bottom:0;\">BsmtFinSF2</h4>\n",
       "        <hr style=\"border:0; border-bottom:1px solid #ccc; margin:5px 0 10px;\">\n",
       "        "
      ],
      "text/plain": [
       "<IPython.core.display.HTML object>"
      ]
     },
     "metadata": {},
     "output_type": "display_data"
    },
    {
     "name": "stdout",
     "output_type": "stream",
     "text": [
      "\n",
      "Column: BsmtFinSF2\n",
      "Type: int64\n",
      "Unique Values: 0, 32, 668, 486, 93, 491, 506, 712, 362, 41...\n",
      "--------------------------------------------------\n"
     ]
    },
    {
     "data": {
      "text/html": [
       "\n",
       "        <h4 style=\"color:#666; margin-bottom:0;\">TotalBsmtSF</h4>\n",
       "        <hr style=\"border:0; border-bottom:1px solid #ccc; margin:5px 0 10px;\">\n",
       "        "
      ],
      "text/plain": [
       "<IPython.core.display.HTML object>"
      ]
     },
     "metadata": {},
     "output_type": "display_data"
    },
    {
     "name": "stdout",
     "output_type": "stream",
     "text": [
      "\n",
      "Column: TotalBsmtSF\n",
      "Type: int64\n",
      "Unique Values: 856, 1262, 920, 756, 1145, 796, 1686, 1107, 952, 991...\n",
      "--------------------------------------------------\n"
     ]
    },
    {
     "data": {
      "text/html": [
       "\n",
       "    <div style=\"border: 2px solid #444; padding: 10px; margin-bottom: 10px; background-color: #f2f2f2;\">\n",
       "        <h2 style=\"margin: 0; color: #444;\">Category: BATH</h2>\n",
       "    </div>\n",
       "    "
      ],
      "text/plain": [
       "<IPython.core.display.HTML object>"
      ]
     },
     "metadata": {},
     "output_type": "display_data"
    },
    {
     "data": {
      "text/html": [
       "<style type=\"text/css\">\n",
       "#T_2dc73 th {\n",
       "  background-color: #f7f7f7;\n",
       "  color: #333;\n",
       "  font-weight: bold;\n",
       "  padding: 5px;\n",
       "}\n",
       "#T_2dc73 td {\n",
       "  padding: 5px;\n",
       "}\n",
       "</style>\n",
       "<table id=\"T_2dc73\">\n",
       "  <caption>Columns and Correlations</caption>\n",
       "  <thead>\n",
       "    <tr>\n",
       "      <th class=\"blank level0\" >&nbsp;</th>\n",
       "      <th id=\"T_2dc73_level0_col0\" class=\"col_heading level0 col0\" >Column</th>\n",
       "      <th id=\"T_2dc73_level0_col1\" class=\"col_heading level0 col1\" >Correlation with SalePrice</th>\n",
       "    </tr>\n",
       "  </thead>\n",
       "  <tbody>\n",
       "    <tr>\n",
       "      <th id=\"T_2dc73_level0_row0\" class=\"row_heading level0 row0\" >0</th>\n",
       "      <td id=\"T_2dc73_row0_col0\" class=\"data row0 col0\" >FullBath</td>\n",
       "      <td id=\"T_2dc73_row0_col1\" class=\"data row0 col1\" >0.561</td>\n",
       "    </tr>\n",
       "    <tr>\n",
       "      <th id=\"T_2dc73_level0_row1\" class=\"row_heading level0 row1\" >1</th>\n",
       "      <td id=\"T_2dc73_row1_col0\" class=\"data row1 col0\" >HalfBath</td>\n",
       "      <td id=\"T_2dc73_row1_col1\" class=\"data row1 col1\" >0.284</td>\n",
       "    </tr>\n",
       "  </tbody>\n",
       "</table>\n"
      ],
      "text/plain": [
       "<pandas.io.formats.style.Styler at 0x1d3055d2820>"
      ]
     },
     "metadata": {},
     "output_type": "display_data"
    },
    {
     "data": {
      "text/html": [
       "\n",
       "    <h3 style=\"color:#444; border-bottom:1px solid #ccc; margin-bottom:10px;\">\n",
       "        Detailed Column Information:\n",
       "    </h3>\n",
       "    "
      ],
      "text/plain": [
       "<IPython.core.display.HTML object>"
      ]
     },
     "metadata": {},
     "output_type": "display_data"
    },
    {
     "data": {
      "text/html": [
       "\n",
       "        <h4 style=\"color:#666; margin-bottom:0;\">FullBath</h4>\n",
       "        <hr style=\"border:0; border-bottom:1px solid #ccc; margin:5px 0 10px;\">\n",
       "        "
      ],
      "text/plain": [
       "<IPython.core.display.HTML object>"
      ]
     },
     "metadata": {},
     "output_type": "display_data"
    },
    {
     "name": "stdout",
     "output_type": "stream",
     "text": [
      "\n",
      "Column: FullBath\n",
      "Type: int64\n",
      "Unique Values: 2, 1, 3, 0\n",
      "--------------------------------------------------\n"
     ]
    },
    {
     "data": {
      "text/html": [
       "\n",
       "        <h4 style=\"color:#666; margin-bottom:0;\">HalfBath</h4>\n",
       "        <hr style=\"border:0; border-bottom:1px solid #ccc; margin:5px 0 10px;\">\n",
       "        "
      ],
      "text/plain": [
       "<IPython.core.display.HTML object>"
      ]
     },
     "metadata": {},
     "output_type": "display_data"
    },
    {
     "name": "stdout",
     "output_type": "stream",
     "text": [
      "\n",
      "Column: HalfBath\n",
      "Type: int64\n",
      "Unique Values: 1, 0, 2\n",
      "--------------------------------------------------\n"
     ]
    },
    {
     "data": {
      "text/html": [
       "\n",
       "    <div style=\"border: 2px solid #444; padding: 10px; margin-bottom: 10px; background-color: #f2f2f2;\">\n",
       "        <h2 style=\"margin: 0; color: #444;\">Category: EXTERIOR</h2>\n",
       "    </div>\n",
       "    "
      ],
      "text/plain": [
       "<IPython.core.display.HTML object>"
      ]
     },
     "metadata": {},
     "output_type": "display_data"
    },
    {
     "data": {
      "text/html": [
       "<style type=\"text/css\">\n",
       "#T_6a0f7 th {\n",
       "  background-color: #f7f7f7;\n",
       "  color: #333;\n",
       "  font-weight: bold;\n",
       "  padding: 5px;\n",
       "}\n",
       "#T_6a0f7 td {\n",
       "  padding: 5px;\n",
       "}\n",
       "</style>\n",
       "<table id=\"T_6a0f7\">\n",
       "  <caption>Columns and Correlations</caption>\n",
       "  <thead>\n",
       "    <tr>\n",
       "      <th class=\"blank level0\" >&nbsp;</th>\n",
       "      <th id=\"T_6a0f7_level0_col0\" class=\"col_heading level0 col0\" >Column</th>\n",
       "      <th id=\"T_6a0f7_level0_col1\" class=\"col_heading level0 col1\" >Correlation with SalePrice</th>\n",
       "    </tr>\n",
       "  </thead>\n",
       "  <tbody>\n",
       "    <tr>\n",
       "      <th id=\"T_6a0f7_level0_row0\" class=\"row_heading level0 row0\" >0</th>\n",
       "      <td id=\"T_6a0f7_row0_col0\" class=\"data row0 col0\" >Exterior1st</td>\n",
       "      <td id=\"T_6a0f7_row0_col1\" class=\"data row0 col1\" >--</td>\n",
       "    </tr>\n",
       "    <tr>\n",
       "      <th id=\"T_6a0f7_level0_row1\" class=\"row_heading level0 row1\" >1</th>\n",
       "      <td id=\"T_6a0f7_row1_col0\" class=\"data row1 col0\" >Exterior2nd</td>\n",
       "      <td id=\"T_6a0f7_row1_col1\" class=\"data row1 col1\" >--</td>\n",
       "    </tr>\n",
       "    <tr>\n",
       "      <th id=\"T_6a0f7_level0_row2\" class=\"row_heading level0 row2\" >2</th>\n",
       "      <td id=\"T_6a0f7_row2_col0\" class=\"data row2 col0\" >MasVnrType</td>\n",
       "      <td id=\"T_6a0f7_row2_col1\" class=\"data row2 col1\" >--</td>\n",
       "    </tr>\n",
       "    <tr>\n",
       "      <th id=\"T_6a0f7_level0_row3\" class=\"row_heading level0 row3\" >3</th>\n",
       "      <td id=\"T_6a0f7_row3_col0\" class=\"data row3 col0\" >ExterCond</td>\n",
       "      <td id=\"T_6a0f7_row3_col1\" class=\"data row3 col1\" >--</td>\n",
       "    </tr>\n",
       "    <tr>\n",
       "      <th id=\"T_6a0f7_level0_row4\" class=\"row_heading level0 row4\" >4</th>\n",
       "      <td id=\"T_6a0f7_row4_col0\" class=\"data row4 col0\" >ExterQual</td>\n",
       "      <td id=\"T_6a0f7_row4_col1\" class=\"data row4 col1\" >--</td>\n",
       "    </tr>\n",
       "    <tr>\n",
       "      <th id=\"T_6a0f7_level0_row5\" class=\"row_heading level0 row5\" >5</th>\n",
       "      <td id=\"T_6a0f7_row5_col0\" class=\"data row5 col0\" >MasVnrArea</td>\n",
       "      <td id=\"T_6a0f7_row5_col1\" class=\"data row5 col1\" >0.477</td>\n",
       "    </tr>\n",
       "    <tr>\n",
       "      <th id=\"T_6a0f7_level0_row6\" class=\"row_heading level0 row6\" >6</th>\n",
       "      <td id=\"T_6a0f7_row6_col0\" class=\"data row6 col0\" >PavedDrive</td>\n",
       "      <td id=\"T_6a0f7_row6_col1\" class=\"data row6 col1\" >--</td>\n",
       "    </tr>\n",
       "    <tr>\n",
       "      <th id=\"T_6a0f7_level0_row7\" class=\"row_heading level0 row7\" >7</th>\n",
       "      <td id=\"T_6a0f7_row7_col0\" class=\"data row7 col0\" >WoodDeckSF</td>\n",
       "      <td id=\"T_6a0f7_row7_col1\" class=\"data row7 col1\" >0.324</td>\n",
       "    </tr>\n",
       "  </tbody>\n",
       "</table>\n"
      ],
      "text/plain": [
       "<pandas.io.formats.style.Styler at 0x1d30584e4f0>"
      ]
     },
     "metadata": {},
     "output_type": "display_data"
    },
    {
     "data": {
      "text/html": [
       "\n",
       "    <h3 style=\"color:#444; border-bottom:1px solid #ccc; margin-bottom:10px;\">\n",
       "        Detailed Column Information:\n",
       "    </h3>\n",
       "    "
      ],
      "text/plain": [
       "<IPython.core.display.HTML object>"
      ]
     },
     "metadata": {},
     "output_type": "display_data"
    },
    {
     "data": {
      "text/html": [
       "\n",
       "        <h4 style=\"color:#666; margin-bottom:0;\">Exterior1st</h4>\n",
       "        <hr style=\"border:0; border-bottom:1px solid #ccc; margin:5px 0 10px;\">\n",
       "        "
      ],
      "text/plain": [
       "<IPython.core.display.HTML object>"
      ]
     },
     "metadata": {},
     "output_type": "display_data"
    },
    {
     "name": "stdout",
     "output_type": "stream",
     "text": [
      "\n",
      "Column: Exterior1st\n",
      "Type: object\n",
      "Unique Values: VinylSd, MetalSd, Wd Sdng, HdBoard, BrkFace, WdShing, CemntBd, Plywood, AsbShng, Stucco...\n",
      "--------------------------------------------------\n"
     ]
    },
    {
     "data": {
      "text/html": [
       "\n",
       "        <h4 style=\"color:#666; margin-bottom:0;\">Exterior2nd</h4>\n",
       "        <hr style=\"border:0; border-bottom:1px solid #ccc; margin:5px 0 10px;\">\n",
       "        "
      ],
      "text/plain": [
       "<IPython.core.display.HTML object>"
      ]
     },
     "metadata": {},
     "output_type": "display_data"
    },
    {
     "name": "stdout",
     "output_type": "stream",
     "text": [
      "\n",
      "Column: Exterior2nd\n",
      "Type: object\n",
      "Unique Values: VinylSd, MetalSd, Wd Shng, HdBoard, Plywood, Wd Sdng, CmentBd, BrkFace, Stucco, AsbShng...\n",
      "--------------------------------------------------\n"
     ]
    },
    {
     "data": {
      "text/html": [
       "\n",
       "        <h4 style=\"color:#666; margin-bottom:0;\">MasVnrType</h4>\n",
       "        <hr style=\"border:0; border-bottom:1px solid #ccc; margin:5px 0 10px;\">\n",
       "        "
      ],
      "text/plain": [
       "<IPython.core.display.HTML object>"
      ]
     },
     "metadata": {},
     "output_type": "display_data"
    },
    {
     "name": "stdout",
     "output_type": "stream",
     "text": [
      "\n",
      "Column: MasVnrType\n",
      "Type: object\n",
      "Unique Values: BrkFace, nan, Stone, BrkCmn\n",
      "--------------------------------------------------\n"
     ]
    },
    {
     "data": {
      "text/html": [
       "\n",
       "        <h4 style=\"color:#666; margin-bottom:0;\">ExterCond</h4>\n",
       "        <hr style=\"border:0; border-bottom:1px solid #ccc; margin:5px 0 10px;\">\n",
       "        "
      ],
      "text/plain": [
       "<IPython.core.display.HTML object>"
      ]
     },
     "metadata": {},
     "output_type": "display_data"
    },
    {
     "name": "stdout",
     "output_type": "stream",
     "text": [
      "\n",
      "Column: ExterCond\n",
      "Type: object\n",
      "Unique Values: TA, Gd, Fa, Po, Ex\n",
      "--------------------------------------------------\n"
     ]
    },
    {
     "data": {
      "text/html": [
       "\n",
       "        <h4 style=\"color:#666; margin-bottom:0;\">ExterQual</h4>\n",
       "        <hr style=\"border:0; border-bottom:1px solid #ccc; margin:5px 0 10px;\">\n",
       "        "
      ],
      "text/plain": [
       "<IPython.core.display.HTML object>"
      ]
     },
     "metadata": {},
     "output_type": "display_data"
    },
    {
     "name": "stdout",
     "output_type": "stream",
     "text": [
      "\n",
      "Column: ExterQual\n",
      "Type: object\n",
      "Unique Values: Gd, TA, Ex, Fa\n",
      "--------------------------------------------------\n"
     ]
    },
    {
     "data": {
      "text/html": [
       "\n",
       "        <h4 style=\"color:#666; margin-bottom:0;\">MasVnrArea</h4>\n",
       "        <hr style=\"border:0; border-bottom:1px solid #ccc; margin:5px 0 10px;\">\n",
       "        "
      ],
      "text/plain": [
       "<IPython.core.display.HTML object>"
      ]
     },
     "metadata": {},
     "output_type": "display_data"
    },
    {
     "name": "stdout",
     "output_type": "stream",
     "text": [
      "\n",
      "Column: MasVnrArea\n",
      "Type: float64\n",
      "Unique Values: 196.0, 0.0, 162.0, 350.0, 186.0, 240.0, 286.0, 306.0, 212.0, 180.0...\n",
      "--------------------------------------------------\n"
     ]
    },
    {
     "data": {
      "text/html": [
       "\n",
       "        <h4 style=\"color:#666; margin-bottom:0;\">PavedDrive</h4>\n",
       "        <hr style=\"border:0; border-bottom:1px solid #ccc; margin:5px 0 10px;\">\n",
       "        "
      ],
      "text/plain": [
       "<IPython.core.display.HTML object>"
      ]
     },
     "metadata": {},
     "output_type": "display_data"
    },
    {
     "name": "stdout",
     "output_type": "stream",
     "text": [
      "\n",
      "Column: PavedDrive\n",
      "Type: object\n",
      "Unique Values: Y, N, P\n",
      "--------------------------------------------------\n"
     ]
    },
    {
     "data": {
      "text/html": [
       "\n",
       "        <h4 style=\"color:#666; margin-bottom:0;\">WoodDeckSF</h4>\n",
       "        <hr style=\"border:0; border-bottom:1px solid #ccc; margin:5px 0 10px;\">\n",
       "        "
      ],
      "text/plain": [
       "<IPython.core.display.HTML object>"
      ]
     },
     "metadata": {},
     "output_type": "display_data"
    },
    {
     "name": "stdout",
     "output_type": "stream",
     "text": [
      "\n",
      "Column: WoodDeckSF\n",
      "Type: int64\n",
      "Unique Values: 0, 298, 192, 40, 255, 235, 90, 147, 140, 160...\n",
      "--------------------------------------------------\n"
     ]
    },
    {
     "data": {
      "text/html": [
       "\n",
       "    <div style=\"border: 2px solid #444; padding: 10px; margin-bottom: 10px; background-color: #f2f2f2;\">\n",
       "        <h2 style=\"margin: 0; color: #444;\">Category: FIREPLACE</h2>\n",
       "    </div>\n",
       "    "
      ],
      "text/plain": [
       "<IPython.core.display.HTML object>"
      ]
     },
     "metadata": {},
     "output_type": "display_data"
    },
    {
     "data": {
      "text/html": [
       "<style type=\"text/css\">\n",
       "#T_c582f th {\n",
       "  background-color: #f7f7f7;\n",
       "  color: #333;\n",
       "  font-weight: bold;\n",
       "  padding: 5px;\n",
       "}\n",
       "#T_c582f td {\n",
       "  padding: 5px;\n",
       "}\n",
       "</style>\n",
       "<table id=\"T_c582f\">\n",
       "  <caption>Columns and Correlations</caption>\n",
       "  <thead>\n",
       "    <tr>\n",
       "      <th class=\"blank level0\" >&nbsp;</th>\n",
       "      <th id=\"T_c582f_level0_col0\" class=\"col_heading level0 col0\" >Column</th>\n",
       "      <th id=\"T_c582f_level0_col1\" class=\"col_heading level0 col1\" >Correlation with SalePrice</th>\n",
       "    </tr>\n",
       "  </thead>\n",
       "  <tbody>\n",
       "    <tr>\n",
       "      <th id=\"T_c582f_level0_row0\" class=\"row_heading level0 row0\" >0</th>\n",
       "      <td id=\"T_c582f_row0_col0\" class=\"data row0 col0\" >Fireplaces</td>\n",
       "      <td id=\"T_c582f_row0_col1\" class=\"data row0 col1\" >0.467</td>\n",
       "    </tr>\n",
       "  </tbody>\n",
       "</table>\n"
      ],
      "text/plain": [
       "<pandas.io.formats.style.Styler at 0x1d30584efa0>"
      ]
     },
     "metadata": {},
     "output_type": "display_data"
    },
    {
     "data": {
      "text/html": [
       "\n",
       "    <h3 style=\"color:#444; border-bottom:1px solid #ccc; margin-bottom:10px;\">\n",
       "        Detailed Column Information:\n",
       "    </h3>\n",
       "    "
      ],
      "text/plain": [
       "<IPython.core.display.HTML object>"
      ]
     },
     "metadata": {},
     "output_type": "display_data"
    },
    {
     "data": {
      "text/html": [
       "\n",
       "        <h4 style=\"color:#666; margin-bottom:0;\">Fireplaces</h4>\n",
       "        <hr style=\"border:0; border-bottom:1px solid #ccc; margin:5px 0 10px;\">\n",
       "        "
      ],
      "text/plain": [
       "<IPython.core.display.HTML object>"
      ]
     },
     "metadata": {},
     "output_type": "display_data"
    },
    {
     "name": "stdout",
     "output_type": "stream",
     "text": [
      "\n",
      "Column: Fireplaces\n",
      "Type: int64\n",
      "Unique Values: 0, 1, 2, 3\n",
      "--------------------------------------------------\n"
     ]
    },
    {
     "data": {
      "text/html": [
       "\n",
       "    <div style=\"border: 2px solid #444; padding: 10px; margin-bottom: 10px; background-color: #f2f2f2;\">\n",
       "        <h2 style=\"margin: 0; color: #444;\">Category: GARAGE</h2>\n",
       "    </div>\n",
       "    "
      ],
      "text/plain": [
       "<IPython.core.display.HTML object>"
      ]
     },
     "metadata": {},
     "output_type": "display_data"
    },
    {
     "data": {
      "text/html": [
       "<style type=\"text/css\">\n",
       "#T_8ace1 th {\n",
       "  background-color: #f7f7f7;\n",
       "  color: #333;\n",
       "  font-weight: bold;\n",
       "  padding: 5px;\n",
       "}\n",
       "#T_8ace1 td {\n",
       "  padding: 5px;\n",
       "}\n",
       "</style>\n",
       "<table id=\"T_8ace1\">\n",
       "  <caption>Columns and Correlations</caption>\n",
       "  <thead>\n",
       "    <tr>\n",
       "      <th class=\"blank level0\" >&nbsp;</th>\n",
       "      <th id=\"T_8ace1_level0_col0\" class=\"col_heading level0 col0\" >Column</th>\n",
       "      <th id=\"T_8ace1_level0_col1\" class=\"col_heading level0 col1\" >Correlation with SalePrice</th>\n",
       "    </tr>\n",
       "  </thead>\n",
       "  <tbody>\n",
       "    <tr>\n",
       "      <th id=\"T_8ace1_level0_row0\" class=\"row_heading level0 row0\" >0</th>\n",
       "      <td id=\"T_8ace1_row0_col0\" class=\"data row0 col0\" >GarageCond</td>\n",
       "      <td id=\"T_8ace1_row0_col1\" class=\"data row0 col1\" >--</td>\n",
       "    </tr>\n",
       "    <tr>\n",
       "      <th id=\"T_8ace1_level0_row1\" class=\"row_heading level0 row1\" >1</th>\n",
       "      <td id=\"T_8ace1_row1_col0\" class=\"data row1 col0\" >GarageFinish</td>\n",
       "      <td id=\"T_8ace1_row1_col1\" class=\"data row1 col1\" >--</td>\n",
       "    </tr>\n",
       "    <tr>\n",
       "      <th id=\"T_8ace1_level0_row2\" class=\"row_heading level0 row2\" >2</th>\n",
       "      <td id=\"T_8ace1_row2_col0\" class=\"data row2 col0\" >GarageQual</td>\n",
       "      <td id=\"T_8ace1_row2_col1\" class=\"data row2 col1\" >--</td>\n",
       "    </tr>\n",
       "    <tr>\n",
       "      <th id=\"T_8ace1_level0_row3\" class=\"row_heading level0 row3\" >3</th>\n",
       "      <td id=\"T_8ace1_row3_col0\" class=\"data row3 col0\" >GarageType</td>\n",
       "      <td id=\"T_8ace1_row3_col1\" class=\"data row3 col1\" >--</td>\n",
       "    </tr>\n",
       "    <tr>\n",
       "      <th id=\"T_8ace1_level0_row4\" class=\"row_heading level0 row4\" >4</th>\n",
       "      <td id=\"T_8ace1_row4_col0\" class=\"data row4 col0\" >GarageYrBlt</td>\n",
       "      <td id=\"T_8ace1_row4_col1\" class=\"data row4 col1\" >0.486</td>\n",
       "    </tr>\n",
       "    <tr>\n",
       "      <th id=\"T_8ace1_level0_row5\" class=\"row_heading level0 row5\" >5</th>\n",
       "      <td id=\"T_8ace1_row5_col0\" class=\"data row5 col0\" >GarageArea</td>\n",
       "      <td id=\"T_8ace1_row5_col1\" class=\"data row5 col1\" >0.623</td>\n",
       "    </tr>\n",
       "    <tr>\n",
       "      <th id=\"T_8ace1_level0_row6\" class=\"row_heading level0 row6\" >6</th>\n",
       "      <td id=\"T_8ace1_row6_col0\" class=\"data row6 col0\" >GarageCars</td>\n",
       "      <td id=\"T_8ace1_row6_col1\" class=\"data row6 col1\" >0.640</td>\n",
       "    </tr>\n",
       "  </tbody>\n",
       "</table>\n"
      ],
      "text/plain": [
       "<pandas.io.formats.style.Styler at 0x1d305816d90>"
      ]
     },
     "metadata": {},
     "output_type": "display_data"
    },
    {
     "data": {
      "text/html": [
       "\n",
       "    <h3 style=\"color:#444; border-bottom:1px solid #ccc; margin-bottom:10px;\">\n",
       "        Detailed Column Information:\n",
       "    </h3>\n",
       "    "
      ],
      "text/plain": [
       "<IPython.core.display.HTML object>"
      ]
     },
     "metadata": {},
     "output_type": "display_data"
    },
    {
     "data": {
      "text/html": [
       "\n",
       "        <h4 style=\"color:#666; margin-bottom:0;\">GarageCond</h4>\n",
       "        <hr style=\"border:0; border-bottom:1px solid #ccc; margin:5px 0 10px;\">\n",
       "        "
      ],
      "text/plain": [
       "<IPython.core.display.HTML object>"
      ]
     },
     "metadata": {},
     "output_type": "display_data"
    },
    {
     "name": "stdout",
     "output_type": "stream",
     "text": [
      "\n",
      "Column: GarageCond\n",
      "Type: object\n",
      "Unique Values: TA, Fa, nan, Gd, Po, Ex\n",
      "--------------------------------------------------\n"
     ]
    },
    {
     "data": {
      "text/html": [
       "\n",
       "        <h4 style=\"color:#666; margin-bottom:0;\">GarageFinish</h4>\n",
       "        <hr style=\"border:0; border-bottom:1px solid #ccc; margin:5px 0 10px;\">\n",
       "        "
      ],
      "text/plain": [
       "<IPython.core.display.HTML object>"
      ]
     },
     "metadata": {},
     "output_type": "display_data"
    },
    {
     "name": "stdout",
     "output_type": "stream",
     "text": [
      "\n",
      "Column: GarageFinish\n",
      "Type: object\n",
      "Unique Values: RFn, Unf, Fin, nan\n",
      "--------------------------------------------------\n"
     ]
    },
    {
     "data": {
      "text/html": [
       "\n",
       "        <h4 style=\"color:#666; margin-bottom:0;\">GarageQual</h4>\n",
       "        <hr style=\"border:0; border-bottom:1px solid #ccc; margin:5px 0 10px;\">\n",
       "        "
      ],
      "text/plain": [
       "<IPython.core.display.HTML object>"
      ]
     },
     "metadata": {},
     "output_type": "display_data"
    },
    {
     "name": "stdout",
     "output_type": "stream",
     "text": [
      "\n",
      "Column: GarageQual\n",
      "Type: object\n",
      "Unique Values: TA, Fa, Gd, nan, Ex, Po\n",
      "--------------------------------------------------\n"
     ]
    },
    {
     "data": {
      "text/html": [
       "\n",
       "        <h4 style=\"color:#666; margin-bottom:0;\">GarageType</h4>\n",
       "        <hr style=\"border:0; border-bottom:1px solid #ccc; margin:5px 0 10px;\">\n",
       "        "
      ],
      "text/plain": [
       "<IPython.core.display.HTML object>"
      ]
     },
     "metadata": {},
     "output_type": "display_data"
    },
    {
     "name": "stdout",
     "output_type": "stream",
     "text": [
      "\n",
      "Column: GarageType\n",
      "Type: object\n",
      "Unique Values: Attchd, Detchd, BuiltIn, CarPort, nan, Basment, 2Types\n",
      "--------------------------------------------------\n"
     ]
    },
    {
     "data": {
      "text/html": [
       "\n",
       "        <h4 style=\"color:#666; margin-bottom:0;\">GarageYrBlt</h4>\n",
       "        <hr style=\"border:0; border-bottom:1px solid #ccc; margin:5px 0 10px;\">\n",
       "        "
      ],
      "text/plain": [
       "<IPython.core.display.HTML object>"
      ]
     },
     "metadata": {},
     "output_type": "display_data"
    },
    {
     "name": "stdout",
     "output_type": "stream",
     "text": [
      "\n",
      "Column: GarageYrBlt\n",
      "Type: float64\n",
      "Unique Values: 2003.0, 1976.0, 2001.0, 1998.0, 2000.0, 1993.0, 2004.0, 1973.0, 1931.0, 1939.0...\n",
      "--------------------------------------------------\n"
     ]
    },
    {
     "data": {
      "text/html": [
       "\n",
       "        <h4 style=\"color:#666; margin-bottom:0;\">GarageArea</h4>\n",
       "        <hr style=\"border:0; border-bottom:1px solid #ccc; margin:5px 0 10px;\">\n",
       "        "
      ],
      "text/plain": [
       "<IPython.core.display.HTML object>"
      ]
     },
     "metadata": {},
     "output_type": "display_data"
    },
    {
     "name": "stdout",
     "output_type": "stream",
     "text": [
      "\n",
      "Column: GarageArea\n",
      "Type: int64\n",
      "Unique Values: 548, 460, 608, 642, 836, 480, 636, 484, 468, 205...\n",
      "--------------------------------------------------\n"
     ]
    },
    {
     "data": {
      "text/html": [
       "\n",
       "        <h4 style=\"color:#666; margin-bottom:0;\">GarageCars</h4>\n",
       "        <hr style=\"border:0; border-bottom:1px solid #ccc; margin:5px 0 10px;\">\n",
       "        "
      ],
      "text/plain": [
       "<IPython.core.display.HTML object>"
      ]
     },
     "metadata": {},
     "output_type": "display_data"
    },
    {
     "name": "stdout",
     "output_type": "stream",
     "text": [
      "\n",
      "Column: GarageCars\n",
      "Type: int64\n",
      "Unique Values: 2, 3, 1, 0, 4\n",
      "--------------------------------------------------\n"
     ]
    },
    {
     "data": {
      "text/html": [
       "\n",
       "    <div style=\"border: 2px solid #444; padding: 10px; margin-bottom: 10px; background-color: #f2f2f2;\">\n",
       "        <h2 style=\"margin: 0; color: #444;\">Category: GENERAL</h2>\n",
       "    </div>\n",
       "    "
      ],
      "text/plain": [
       "<IPython.core.display.HTML object>"
      ]
     },
     "metadata": {},
     "output_type": "display_data"
    },
    {
     "data": {
      "text/html": [
       "<style type=\"text/css\">\n",
       "#T_1ca62 th {\n",
       "  background-color: #f7f7f7;\n",
       "  color: #333;\n",
       "  font-weight: bold;\n",
       "  padding: 5px;\n",
       "}\n",
       "#T_1ca62 td {\n",
       "  padding: 5px;\n",
       "}\n",
       "</style>\n",
       "<table id=\"T_1ca62\">\n",
       "  <caption>Columns and Correlations</caption>\n",
       "  <thead>\n",
       "    <tr>\n",
       "      <th class=\"blank level0\" >&nbsp;</th>\n",
       "      <th id=\"T_1ca62_level0_col0\" class=\"col_heading level0 col0\" >Column</th>\n",
       "      <th id=\"T_1ca62_level0_col1\" class=\"col_heading level0 col1\" >Correlation with SalePrice</th>\n",
       "    </tr>\n",
       "  </thead>\n",
       "  <tbody>\n",
       "    <tr>\n",
       "      <th id=\"T_1ca62_level0_row0\" class=\"row_heading level0 row0\" >0</th>\n",
       "      <td id=\"T_1ca62_row0_col0\" class=\"data row0 col0\" >MSSubClass</td>\n",
       "      <td id=\"T_1ca62_row0_col1\" class=\"data row0 col1\" >-0.084</td>\n",
       "    </tr>\n",
       "    <tr>\n",
       "      <th id=\"T_1ca62_level0_row1\" class=\"row_heading level0 row1\" >1</th>\n",
       "      <td id=\"T_1ca62_row1_col0\" class=\"data row1 col0\" >HouseStyle</td>\n",
       "      <td id=\"T_1ca62_row1_col1\" class=\"data row1 col1\" >--</td>\n",
       "    </tr>\n",
       "    <tr>\n",
       "      <th id=\"T_1ca62_level0_row2\" class=\"row_heading level0 row2\" >2</th>\n",
       "      <td id=\"T_1ca62_row2_col0\" class=\"data row2 col0\" >MSZoning</td>\n",
       "      <td id=\"T_1ca62_row2_col1\" class=\"data row2 col1\" >--</td>\n",
       "    </tr>\n",
       "    <tr>\n",
       "      <th id=\"T_1ca62_level0_row3\" class=\"row_heading level0 row3\" >3</th>\n",
       "      <td id=\"T_1ca62_row3_col0\" class=\"data row3 col0\" >Functional</td>\n",
       "      <td id=\"T_1ca62_row3_col1\" class=\"data row3 col1\" >--</td>\n",
       "    </tr>\n",
       "    <tr>\n",
       "      <th id=\"T_1ca62_level0_row4\" class=\"row_heading level0 row4\" >4</th>\n",
       "      <td id=\"T_1ca62_row4_col0\" class=\"data row4 col0\" >MiscVal</td>\n",
       "      <td id=\"T_1ca62_row4_col1\" class=\"data row4 col1\" >-0.021</td>\n",
       "    </tr>\n",
       "    <tr>\n",
       "      <th id=\"T_1ca62_level0_row5\" class=\"row_heading level0 row5\" >5</th>\n",
       "      <td id=\"T_1ca62_row5_col0\" class=\"data row5 col0\" >Neighborhood</td>\n",
       "      <td id=\"T_1ca62_row5_col1\" class=\"data row5 col1\" >--</td>\n",
       "    </tr>\n",
       "    <tr>\n",
       "      <th id=\"T_1ca62_level0_row6\" class=\"row_heading level0 row6\" >6</th>\n",
       "      <td id=\"T_1ca62_row6_col0\" class=\"data row6 col0\" >OverallCond</td>\n",
       "      <td id=\"T_1ca62_row6_col1\" class=\"data row6 col1\" >-0.078</td>\n",
       "    </tr>\n",
       "    <tr>\n",
       "      <th id=\"T_1ca62_level0_row7\" class=\"row_heading level0 row7\" >7</th>\n",
       "      <td id=\"T_1ca62_row7_col0\" class=\"data row7 col0\" >OverallQual</td>\n",
       "      <td id=\"T_1ca62_row7_col1\" class=\"data row7 col1\" >0.791</td>\n",
       "    </tr>\n",
       "    <tr>\n",
       "      <th id=\"T_1ca62_level0_row8\" class=\"row_heading level0 row8\" >8</th>\n",
       "      <td id=\"T_1ca62_row8_col0\" class=\"data row8 col0\" >Utilities</td>\n",
       "      <td id=\"T_1ca62_row8_col1\" class=\"data row8 col1\" >--</td>\n",
       "    </tr>\n",
       "    <tr>\n",
       "      <th id=\"T_1ca62_level0_row9\" class=\"row_heading level0 row9\" >9</th>\n",
       "      <td id=\"T_1ca62_row9_col0\" class=\"data row9 col0\" >YearRemodAdd</td>\n",
       "      <td id=\"T_1ca62_row9_col1\" class=\"data row9 col1\" >0.507</td>\n",
       "    </tr>\n",
       "  </tbody>\n",
       "</table>\n"
      ],
      "text/plain": [
       "<pandas.io.formats.style.Styler at 0x1d305816e50>"
      ]
     },
     "metadata": {},
     "output_type": "display_data"
    },
    {
     "data": {
      "text/html": [
       "\n",
       "    <h3 style=\"color:#444; border-bottom:1px solid #ccc; margin-bottom:10px;\">\n",
       "        Detailed Column Information:\n",
       "    </h3>\n",
       "    "
      ],
      "text/plain": [
       "<IPython.core.display.HTML object>"
      ]
     },
     "metadata": {},
     "output_type": "display_data"
    },
    {
     "data": {
      "text/html": [
       "\n",
       "        <h4 style=\"color:#666; margin-bottom:0;\">MSSubClass</h4>\n",
       "        <hr style=\"border:0; border-bottom:1px solid #ccc; margin:5px 0 10px;\">\n",
       "        "
      ],
      "text/plain": [
       "<IPython.core.display.HTML object>"
      ]
     },
     "metadata": {},
     "output_type": "display_data"
    },
    {
     "name": "stdout",
     "output_type": "stream",
     "text": [
      "\n",
      "Column: MSSubClass\n",
      "Type: int64\n",
      "Unique Values: 60, 20, 70, 50, 190, 45, 90, 120, 30, 85...\n",
      "--------------------------------------------------\n"
     ]
    },
    {
     "data": {
      "text/html": [
       "\n",
       "        <h4 style=\"color:#666; margin-bottom:0;\">HouseStyle</h4>\n",
       "        <hr style=\"border:0; border-bottom:1px solid #ccc; margin:5px 0 10px;\">\n",
       "        "
      ],
      "text/plain": [
       "<IPython.core.display.HTML object>"
      ]
     },
     "metadata": {},
     "output_type": "display_data"
    },
    {
     "name": "stdout",
     "output_type": "stream",
     "text": [
      "\n",
      "Column: HouseStyle\n",
      "Type: object\n",
      "Unique Values: 2Story, 1Story, 1.5Fin, 1.5Unf, SFoyer, SLvl, 2.5Unf, 2.5Fin\n",
      "--------------------------------------------------\n"
     ]
    },
    {
     "data": {
      "text/html": [
       "\n",
       "        <h4 style=\"color:#666; margin-bottom:0;\">MSZoning</h4>\n",
       "        <hr style=\"border:0; border-bottom:1px solid #ccc; margin:5px 0 10px;\">\n",
       "        "
      ],
      "text/plain": [
       "<IPython.core.display.HTML object>"
      ]
     },
     "metadata": {},
     "output_type": "display_data"
    },
    {
     "name": "stdout",
     "output_type": "stream",
     "text": [
      "\n",
      "Column: MSZoning\n",
      "Type: object\n",
      "Unique Values: RL, RM, C (all), FV, RH\n",
      "--------------------------------------------------\n"
     ]
    },
    {
     "data": {
      "text/html": [
       "\n",
       "        <h4 style=\"color:#666; margin-bottom:0;\">Functional</h4>\n",
       "        <hr style=\"border:0; border-bottom:1px solid #ccc; margin:5px 0 10px;\">\n",
       "        "
      ],
      "text/plain": [
       "<IPython.core.display.HTML object>"
      ]
     },
     "metadata": {},
     "output_type": "display_data"
    },
    {
     "name": "stdout",
     "output_type": "stream",
     "text": [
      "\n",
      "Column: Functional\n",
      "Type: object\n",
      "Unique Values: Typ, Min1, Maj1, Min2, Mod, Maj2, Sev\n",
      "--------------------------------------------------\n"
     ]
    },
    {
     "data": {
      "text/html": [
       "\n",
       "        <h4 style=\"color:#666; margin-bottom:0;\">MiscVal</h4>\n",
       "        <hr style=\"border:0; border-bottom:1px solid #ccc; margin:5px 0 10px;\">\n",
       "        "
      ],
      "text/plain": [
       "<IPython.core.display.HTML object>"
      ]
     },
     "metadata": {},
     "output_type": "display_data"
    },
    {
     "name": "stdout",
     "output_type": "stream",
     "text": [
      "\n",
      "Column: MiscVal\n",
      "Type: int64\n",
      "Unique Values: 0, 700, 350, 500, 400, 480, 450, 15500, 1200, 800...\n",
      "--------------------------------------------------\n"
     ]
    },
    {
     "data": {
      "text/html": [
       "\n",
       "        <h4 style=\"color:#666; margin-bottom:0;\">Neighborhood</h4>\n",
       "        <hr style=\"border:0; border-bottom:1px solid #ccc; margin:5px 0 10px;\">\n",
       "        "
      ],
      "text/plain": [
       "<IPython.core.display.HTML object>"
      ]
     },
     "metadata": {},
     "output_type": "display_data"
    },
    {
     "name": "stdout",
     "output_type": "stream",
     "text": [
      "\n",
      "Column: Neighborhood\n",
      "Type: object\n",
      "Unique Values: CollgCr, Veenker, Crawfor, NoRidge, Mitchel, Somerst, NWAmes, OldTown, BrkSide, Sawyer...\n",
      "--------------------------------------------------\n"
     ]
    },
    {
     "data": {
      "text/html": [
       "\n",
       "        <h4 style=\"color:#666; margin-bottom:0;\">OverallCond</h4>\n",
       "        <hr style=\"border:0; border-bottom:1px solid #ccc; margin:5px 0 10px;\">\n",
       "        "
      ],
      "text/plain": [
       "<IPython.core.display.HTML object>"
      ]
     },
     "metadata": {},
     "output_type": "display_data"
    },
    {
     "name": "stdout",
     "output_type": "stream",
     "text": [
      "\n",
      "Column: OverallCond\n",
      "Type: int64\n",
      "Unique Values: 5, 8, 6, 7, 4, 2, 3, 9, 1\n",
      "--------------------------------------------------\n"
     ]
    },
    {
     "data": {
      "text/html": [
       "\n",
       "        <h4 style=\"color:#666; margin-bottom:0;\">OverallQual</h4>\n",
       "        <hr style=\"border:0; border-bottom:1px solid #ccc; margin:5px 0 10px;\">\n",
       "        "
      ],
      "text/plain": [
       "<IPython.core.display.HTML object>"
      ]
     },
     "metadata": {},
     "output_type": "display_data"
    },
    {
     "name": "stdout",
     "output_type": "stream",
     "text": [
      "\n",
      "Column: OverallQual\n",
      "Type: int64\n",
      "Unique Values: 7, 6, 8, 5, 9, 4, 10, 3, 1, 2\n",
      "--------------------------------------------------\n"
     ]
    },
    {
     "data": {
      "text/html": [
       "\n",
       "        <h4 style=\"color:#666; margin-bottom:0;\">Utilities</h4>\n",
       "        <hr style=\"border:0; border-bottom:1px solid #ccc; margin:5px 0 10px;\">\n",
       "        "
      ],
      "text/plain": [
       "<IPython.core.display.HTML object>"
      ]
     },
     "metadata": {},
     "output_type": "display_data"
    },
    {
     "name": "stdout",
     "output_type": "stream",
     "text": [
      "\n",
      "Column: Utilities\n",
      "Type: object\n",
      "Unique Values: AllPub, NoSeWa\n",
      "--------------------------------------------------\n"
     ]
    },
    {
     "data": {
      "text/html": [
       "\n",
       "        <h4 style=\"color:#666; margin-bottom:0;\">YearRemodAdd</h4>\n",
       "        <hr style=\"border:0; border-bottom:1px solid #ccc; margin:5px 0 10px;\">\n",
       "        "
      ],
      "text/plain": [
       "<IPython.core.display.HTML object>"
      ]
     },
     "metadata": {},
     "output_type": "display_data"
    },
    {
     "name": "stdout",
     "output_type": "stream",
     "text": [
      "\n",
      "Column: YearRemodAdd\n",
      "Type: int64\n",
      "Unique Values: 2003, 1976, 2002, 1970, 2000, 1995, 2005, 1973, 1950, 1965...\n",
      "--------------------------------------------------\n"
     ]
    },
    {
     "data": {
      "text/html": [
       "\n",
       "    <div style=\"border: 2px solid #444; padding: 10px; margin-bottom: 10px; background-color: #f2f2f2;\">\n",
       "        <h2 style=\"margin: 0; color: #444;\">Category: INTERIOR</h2>\n",
       "    </div>\n",
       "    "
      ],
      "text/plain": [
       "<IPython.core.display.HTML object>"
      ]
     },
     "metadata": {},
     "output_type": "display_data"
    },
    {
     "data": {
      "text/html": [
       "<style type=\"text/css\">\n",
       "#T_1f18a th {\n",
       "  background-color: #f7f7f7;\n",
       "  color: #333;\n",
       "  font-weight: bold;\n",
       "  padding: 5px;\n",
       "}\n",
       "#T_1f18a td {\n",
       "  padding: 5px;\n",
       "}\n",
       "</style>\n",
       "<table id=\"T_1f18a\">\n",
       "  <caption>Columns and Correlations</caption>\n",
       "  <thead>\n",
       "    <tr>\n",
       "      <th class=\"blank level0\" >&nbsp;</th>\n",
       "      <th id=\"T_1f18a_level0_col0\" class=\"col_heading level0 col0\" >Column</th>\n",
       "      <th id=\"T_1f18a_level0_col1\" class=\"col_heading level0 col1\" >Correlation with SalePrice</th>\n",
       "    </tr>\n",
       "  </thead>\n",
       "  <tbody>\n",
       "    <tr>\n",
       "      <th id=\"T_1f18a_level0_row0\" class=\"row_heading level0 row0\" >0</th>\n",
       "      <td id=\"T_1f18a_row0_col0\" class=\"data row0 col0\" >BldgType</td>\n",
       "      <td id=\"T_1f18a_row0_col1\" class=\"data row0 col1\" >--</td>\n",
       "    </tr>\n",
       "    <tr>\n",
       "      <th id=\"T_1f18a_level0_row1\" class=\"row_heading level0 row1\" >1</th>\n",
       "      <td id=\"T_1f18a_row1_col0\" class=\"data row1 col0\" >CentralAir</td>\n",
       "      <td id=\"T_1f18a_row1_col1\" class=\"data row1 col1\" >--</td>\n",
       "    </tr>\n",
       "    <tr>\n",
       "      <th id=\"T_1f18a_level0_row2\" class=\"row_heading level0 row2\" >2</th>\n",
       "      <td id=\"T_1f18a_row2_col0\" class=\"data row2 col0\" >Heating</td>\n",
       "      <td id=\"T_1f18a_row2_col1\" class=\"data row2 col1\" >--</td>\n",
       "    </tr>\n",
       "    <tr>\n",
       "      <th id=\"T_1f18a_level0_row3\" class=\"row_heading level0 row3\" >3</th>\n",
       "      <td id=\"T_1f18a_row3_col0\" class=\"data row3 col0\" >Electrical</td>\n",
       "      <td id=\"T_1f18a_row3_col1\" class=\"data row3 col1\" >--</td>\n",
       "    </tr>\n",
       "    <tr>\n",
       "      <th id=\"T_1f18a_level0_row4\" class=\"row_heading level0 row4\" >4</th>\n",
       "      <td id=\"T_1f18a_row4_col0\" class=\"data row4 col0\" >HeatingQC</td>\n",
       "      <td id=\"T_1f18a_row4_col1\" class=\"data row4 col1\" >--</td>\n",
       "    </tr>\n",
       "    <tr>\n",
       "      <th id=\"T_1f18a_level0_row5\" class=\"row_heading level0 row5\" >5</th>\n",
       "      <td id=\"T_1f18a_row5_col0\" class=\"data row5 col0\" >1stFlrSF</td>\n",
       "      <td id=\"T_1f18a_row5_col1\" class=\"data row5 col1\" >0.606</td>\n",
       "    </tr>\n",
       "    <tr>\n",
       "      <th id=\"T_1f18a_level0_row6\" class=\"row_heading level0 row6\" >6</th>\n",
       "      <td id=\"T_1f18a_row6_col0\" class=\"data row6 col0\" >2ndFlrSF</td>\n",
       "      <td id=\"T_1f18a_row6_col1\" class=\"data row6 col1\" >0.319</td>\n",
       "    </tr>\n",
       "    <tr>\n",
       "      <th id=\"T_1f18a_level0_row7\" class=\"row_heading level0 row7\" >7</th>\n",
       "      <td id=\"T_1f18a_row7_col0\" class=\"data row7 col0\" >BedroomAbvGr</td>\n",
       "      <td id=\"T_1f18a_row7_col1\" class=\"data row7 col1\" >0.168</td>\n",
       "    </tr>\n",
       "    <tr>\n",
       "      <th id=\"T_1f18a_level0_row8\" class=\"row_heading level0 row8\" >8</th>\n",
       "      <td id=\"T_1f18a_row8_col0\" class=\"data row8 col0\" >GrLivArea</td>\n",
       "      <td id=\"T_1f18a_row8_col1\" class=\"data row8 col1\" >0.709</td>\n",
       "    </tr>\n",
       "    <tr>\n",
       "      <th id=\"T_1f18a_level0_row9\" class=\"row_heading level0 row9\" >9</th>\n",
       "      <td id=\"T_1f18a_row9_col0\" class=\"data row9 col0\" >LowQualFinSF</td>\n",
       "      <td id=\"T_1f18a_row9_col1\" class=\"data row9 col1\" >-0.026</td>\n",
       "    </tr>\n",
       "    <tr>\n",
       "      <th id=\"T_1f18a_level0_row10\" class=\"row_heading level0 row10\" >10</th>\n",
       "      <td id=\"T_1f18a_row10_col0\" class=\"data row10 col0\" >TotRmsAbvGrd</td>\n",
       "      <td id=\"T_1f18a_row10_col1\" class=\"data row10 col1\" >0.534</td>\n",
       "    </tr>\n",
       "  </tbody>\n",
       "</table>\n"
      ],
      "text/plain": [
       "<pandas.io.formats.style.Styler at 0x1d3058333a0>"
      ]
     },
     "metadata": {},
     "output_type": "display_data"
    },
    {
     "data": {
      "text/html": [
       "\n",
       "    <h3 style=\"color:#444; border-bottom:1px solid #ccc; margin-bottom:10px;\">\n",
       "        Detailed Column Information:\n",
       "    </h3>\n",
       "    "
      ],
      "text/plain": [
       "<IPython.core.display.HTML object>"
      ]
     },
     "metadata": {},
     "output_type": "display_data"
    },
    {
     "data": {
      "text/html": [
       "\n",
       "        <h4 style=\"color:#666; margin-bottom:0;\">BldgType</h4>\n",
       "        <hr style=\"border:0; border-bottom:1px solid #ccc; margin:5px 0 10px;\">\n",
       "        "
      ],
      "text/plain": [
       "<IPython.core.display.HTML object>"
      ]
     },
     "metadata": {},
     "output_type": "display_data"
    },
    {
     "name": "stdout",
     "output_type": "stream",
     "text": [
      "\n",
      "Column: BldgType\n",
      "Type: object\n",
      "Unique Values: 1Fam, 2fmCon, Duplex, TwnhsE, Twnhs\n",
      "--------------------------------------------------\n"
     ]
    },
    {
     "data": {
      "text/html": [
       "\n",
       "        <h4 style=\"color:#666; margin-bottom:0;\">CentralAir</h4>\n",
       "        <hr style=\"border:0; border-bottom:1px solid #ccc; margin:5px 0 10px;\">\n",
       "        "
      ],
      "text/plain": [
       "<IPython.core.display.HTML object>"
      ]
     },
     "metadata": {},
     "output_type": "display_data"
    },
    {
     "name": "stdout",
     "output_type": "stream",
     "text": [
      "\n",
      "Column: CentralAir\n",
      "Type: object\n",
      "Unique Values: Y, N\n",
      "--------------------------------------------------\n"
     ]
    },
    {
     "data": {
      "text/html": [
       "\n",
       "        <h4 style=\"color:#666; margin-bottom:0;\">Heating</h4>\n",
       "        <hr style=\"border:0; border-bottom:1px solid #ccc; margin:5px 0 10px;\">\n",
       "        "
      ],
      "text/plain": [
       "<IPython.core.display.HTML object>"
      ]
     },
     "metadata": {},
     "output_type": "display_data"
    },
    {
     "name": "stdout",
     "output_type": "stream",
     "text": [
      "\n",
      "Column: Heating\n",
      "Type: object\n",
      "Unique Values: GasA, GasW, Grav, Wall, OthW, Floor\n",
      "--------------------------------------------------\n"
     ]
    },
    {
     "data": {
      "text/html": [
       "\n",
       "        <h4 style=\"color:#666; margin-bottom:0;\">Electrical</h4>\n",
       "        <hr style=\"border:0; border-bottom:1px solid #ccc; margin:5px 0 10px;\">\n",
       "        "
      ],
      "text/plain": [
       "<IPython.core.display.HTML object>"
      ]
     },
     "metadata": {},
     "output_type": "display_data"
    },
    {
     "name": "stdout",
     "output_type": "stream",
     "text": [
      "\n",
      "Column: Electrical\n",
      "Type: object\n",
      "Unique Values: SBrkr, FuseF, FuseA, FuseP, Mix, nan\n",
      "--------------------------------------------------\n"
     ]
    },
    {
     "data": {
      "text/html": [
       "\n",
       "        <h4 style=\"color:#666; margin-bottom:0;\">HeatingQC</h4>\n",
       "        <hr style=\"border:0; border-bottom:1px solid #ccc; margin:5px 0 10px;\">\n",
       "        "
      ],
      "text/plain": [
       "<IPython.core.display.HTML object>"
      ]
     },
     "metadata": {},
     "output_type": "display_data"
    },
    {
     "name": "stdout",
     "output_type": "stream",
     "text": [
      "\n",
      "Column: HeatingQC\n",
      "Type: object\n",
      "Unique Values: Ex, Gd, TA, Fa, Po\n",
      "--------------------------------------------------\n"
     ]
    },
    {
     "data": {
      "text/html": [
       "\n",
       "        <h4 style=\"color:#666; margin-bottom:0;\">1stFlrSF</h4>\n",
       "        <hr style=\"border:0; border-bottom:1px solid #ccc; margin:5px 0 10px;\">\n",
       "        "
      ],
      "text/plain": [
       "<IPython.core.display.HTML object>"
      ]
     },
     "metadata": {},
     "output_type": "display_data"
    },
    {
     "name": "stdout",
     "output_type": "stream",
     "text": [
      "\n",
      "Column: 1stFlrSF\n",
      "Type: int64\n",
      "Unique Values: 856, 1262, 920, 961, 1145, 796, 1694, 1107, 1022, 1077...\n",
      "--------------------------------------------------\n"
     ]
    },
    {
     "data": {
      "text/html": [
       "\n",
       "        <h4 style=\"color:#666; margin-bottom:0;\">2ndFlrSF</h4>\n",
       "        <hr style=\"border:0; border-bottom:1px solid #ccc; margin:5px 0 10px;\">\n",
       "        "
      ],
      "text/plain": [
       "<IPython.core.display.HTML object>"
      ]
     },
     "metadata": {},
     "output_type": "display_data"
    },
    {
     "name": "stdout",
     "output_type": "stream",
     "text": [
      "\n",
      "Column: 2ndFlrSF\n",
      "Type: int64\n",
      "Unique Values: 854, 0, 866, 756, 1053, 566, 983, 752, 1142, 1218...\n",
      "--------------------------------------------------\n"
     ]
    },
    {
     "data": {
      "text/html": [
       "\n",
       "        <h4 style=\"color:#666; margin-bottom:0;\">BedroomAbvGr</h4>\n",
       "        <hr style=\"border:0; border-bottom:1px solid #ccc; margin:5px 0 10px;\">\n",
       "        "
      ],
      "text/plain": [
       "<IPython.core.display.HTML object>"
      ]
     },
     "metadata": {},
     "output_type": "display_data"
    },
    {
     "name": "stdout",
     "output_type": "stream",
     "text": [
      "\n",
      "Column: BedroomAbvGr\n",
      "Type: int64\n",
      "Unique Values: 3, 4, 1, 2, 0, 5, 6, 8\n",
      "--------------------------------------------------\n"
     ]
    },
    {
     "data": {
      "text/html": [
       "\n",
       "        <h4 style=\"color:#666; margin-bottom:0;\">GrLivArea</h4>\n",
       "        <hr style=\"border:0; border-bottom:1px solid #ccc; margin:5px 0 10px;\">\n",
       "        "
      ],
      "text/plain": [
       "<IPython.core.display.HTML object>"
      ]
     },
     "metadata": {},
     "output_type": "display_data"
    },
    {
     "name": "stdout",
     "output_type": "stream",
     "text": [
      "\n",
      "Column: GrLivArea\n",
      "Type: int64\n",
      "Unique Values: 1710, 1262, 1786, 1717, 2198, 1362, 1694, 2090, 1774, 1077...\n",
      "--------------------------------------------------\n"
     ]
    },
    {
     "data": {
      "text/html": [
       "\n",
       "        <h4 style=\"color:#666; margin-bottom:0;\">LowQualFinSF</h4>\n",
       "        <hr style=\"border:0; border-bottom:1px solid #ccc; margin:5px 0 10px;\">\n",
       "        "
      ],
      "text/plain": [
       "<IPython.core.display.HTML object>"
      ]
     },
     "metadata": {},
     "output_type": "display_data"
    },
    {
     "name": "stdout",
     "output_type": "stream",
     "text": [
      "\n",
      "Column: LowQualFinSF\n",
      "Type: int64\n",
      "Unique Values: 0, 360, 513, 234, 528, 572, 144, 392, 371, 390...\n",
      "--------------------------------------------------\n"
     ]
    },
    {
     "data": {
      "text/html": [
       "\n",
       "        <h4 style=\"color:#666; margin-bottom:0;\">TotRmsAbvGrd</h4>\n",
       "        <hr style=\"border:0; border-bottom:1px solid #ccc; margin:5px 0 10px;\">\n",
       "        "
      ],
      "text/plain": [
       "<IPython.core.display.HTML object>"
      ]
     },
     "metadata": {},
     "output_type": "display_data"
    },
    {
     "name": "stdout",
     "output_type": "stream",
     "text": [
      "\n",
      "Column: TotRmsAbvGrd\n",
      "Type: int64\n",
      "Unique Values: 8, 6, 7, 9, 5, 11, 4, 10, 12, 3...\n",
      "--------------------------------------------------\n"
     ]
    },
    {
     "data": {
      "text/html": [
       "\n",
       "    <div style=\"border: 2px solid #444; padding: 10px; margin-bottom: 10px; background-color: #f2f2f2;\">\n",
       "        <h2 style=\"margin: 0; color: #444;\">Category: KITCHEN</h2>\n",
       "    </div>\n",
       "    "
      ],
      "text/plain": [
       "<IPython.core.display.HTML object>"
      ]
     },
     "metadata": {},
     "output_type": "display_data"
    },
    {
     "data": {
      "text/html": [
       "<style type=\"text/css\">\n",
       "#T_27c9c th {\n",
       "  background-color: #f7f7f7;\n",
       "  color: #333;\n",
       "  font-weight: bold;\n",
       "  padding: 5px;\n",
       "}\n",
       "#T_27c9c td {\n",
       "  padding: 5px;\n",
       "}\n",
       "</style>\n",
       "<table id=\"T_27c9c\">\n",
       "  <caption>Columns and Correlations</caption>\n",
       "  <thead>\n",
       "    <tr>\n",
       "      <th class=\"blank level0\" >&nbsp;</th>\n",
       "      <th id=\"T_27c9c_level0_col0\" class=\"col_heading level0 col0\" >Column</th>\n",
       "      <th id=\"T_27c9c_level0_col1\" class=\"col_heading level0 col1\" >Correlation with SalePrice</th>\n",
       "    </tr>\n",
       "  </thead>\n",
       "  <tbody>\n",
       "    <tr>\n",
       "      <th id=\"T_27c9c_level0_row0\" class=\"row_heading level0 row0\" >0</th>\n",
       "      <td id=\"T_27c9c_row0_col0\" class=\"data row0 col0\" >KitchenQual</td>\n",
       "      <td id=\"T_27c9c_row0_col1\" class=\"data row0 col1\" >--</td>\n",
       "    </tr>\n",
       "    <tr>\n",
       "      <th id=\"T_27c9c_level0_row1\" class=\"row_heading level0 row1\" >1</th>\n",
       "      <td id=\"T_27c9c_row1_col0\" class=\"data row1 col0\" >KitchenAbvGr</td>\n",
       "      <td id=\"T_27c9c_row1_col1\" class=\"data row1 col1\" >-0.136</td>\n",
       "    </tr>\n",
       "  </tbody>\n",
       "</table>\n"
      ],
      "text/plain": [
       "<pandas.io.formats.style.Styler at 0x1d3058333a0>"
      ]
     },
     "metadata": {},
     "output_type": "display_data"
    },
    {
     "data": {
      "text/html": [
       "\n",
       "    <h3 style=\"color:#444; border-bottom:1px solid #ccc; margin-bottom:10px;\">\n",
       "        Detailed Column Information:\n",
       "    </h3>\n",
       "    "
      ],
      "text/plain": [
       "<IPython.core.display.HTML object>"
      ]
     },
     "metadata": {},
     "output_type": "display_data"
    },
    {
     "data": {
      "text/html": [
       "\n",
       "        <h4 style=\"color:#666; margin-bottom:0;\">KitchenQual</h4>\n",
       "        <hr style=\"border:0; border-bottom:1px solid #ccc; margin:5px 0 10px;\">\n",
       "        "
      ],
      "text/plain": [
       "<IPython.core.display.HTML object>"
      ]
     },
     "metadata": {},
     "output_type": "display_data"
    },
    {
     "name": "stdout",
     "output_type": "stream",
     "text": [
      "\n",
      "Column: KitchenQual\n",
      "Type: object\n",
      "Unique Values: Gd, TA, Ex, Fa\n",
      "--------------------------------------------------\n"
     ]
    },
    {
     "data": {
      "text/html": [
       "\n",
       "        <h4 style=\"color:#666; margin-bottom:0;\">KitchenAbvGr</h4>\n",
       "        <hr style=\"border:0; border-bottom:1px solid #ccc; margin:5px 0 10px;\">\n",
       "        "
      ],
      "text/plain": [
       "<IPython.core.display.HTML object>"
      ]
     },
     "metadata": {},
     "output_type": "display_data"
    },
    {
     "name": "stdout",
     "output_type": "stream",
     "text": [
      "\n",
      "Column: KitchenAbvGr\n",
      "Type: int64\n",
      "Unique Values: 1, 2, 3, 0\n",
      "--------------------------------------------------\n"
     ]
    },
    {
     "data": {
      "text/html": [
       "\n",
       "    <div style=\"border: 2px solid #444; padding: 10px; margin-bottom: 10px; background-color: #f2f2f2;\">\n",
       "        <h2 style=\"margin: 0; color: #444;\">Category: LOT</h2>\n",
       "    </div>\n",
       "    "
      ],
      "text/plain": [
       "<IPython.core.display.HTML object>"
      ]
     },
     "metadata": {},
     "output_type": "display_data"
    },
    {
     "data": {
      "text/html": [
       "<style type=\"text/css\">\n",
       "#T_4d56b th {\n",
       "  background-color: #f7f7f7;\n",
       "  color: #333;\n",
       "  font-weight: bold;\n",
       "  padding: 5px;\n",
       "}\n",
       "#T_4d56b td {\n",
       "  padding: 5px;\n",
       "}\n",
       "</style>\n",
       "<table id=\"T_4d56b\">\n",
       "  <caption>Columns and Correlations</caption>\n",
       "  <thead>\n",
       "    <tr>\n",
       "      <th class=\"blank level0\" >&nbsp;</th>\n",
       "      <th id=\"T_4d56b_level0_col0\" class=\"col_heading level0 col0\" >Column</th>\n",
       "      <th id=\"T_4d56b_level0_col1\" class=\"col_heading level0 col1\" >Correlation with SalePrice</th>\n",
       "    </tr>\n",
       "  </thead>\n",
       "  <tbody>\n",
       "    <tr>\n",
       "      <th id=\"T_4d56b_level0_row0\" class=\"row_heading level0 row0\" >0</th>\n",
       "      <td id=\"T_4d56b_row0_col0\" class=\"data row0 col0\" >LotConfig</td>\n",
       "      <td id=\"T_4d56b_row0_col1\" class=\"data row0 col1\" >--</td>\n",
       "    </tr>\n",
       "    <tr>\n",
       "      <th id=\"T_4d56b_level0_row1\" class=\"row_heading level0 row1\" >1</th>\n",
       "      <td id=\"T_4d56b_row1_col0\" class=\"data row1 col0\" >Condition1</td>\n",
       "      <td id=\"T_4d56b_row1_col1\" class=\"data row1 col1\" >--</td>\n",
       "    </tr>\n",
       "    <tr>\n",
       "      <th id=\"T_4d56b_level0_row2\" class=\"row_heading level0 row2\" >2</th>\n",
       "      <td id=\"T_4d56b_row2_col0\" class=\"data row2 col0\" >Condition2</td>\n",
       "      <td id=\"T_4d56b_row2_col1\" class=\"data row2 col1\" >--</td>\n",
       "    </tr>\n",
       "    <tr>\n",
       "      <th id=\"T_4d56b_level0_row3\" class=\"row_heading level0 row3\" >3</th>\n",
       "      <td id=\"T_4d56b_row3_col0\" class=\"data row3 col0\" >LandContour</td>\n",
       "      <td id=\"T_4d56b_row3_col1\" class=\"data row3 col1\" >--</td>\n",
       "    </tr>\n",
       "    <tr>\n",
       "      <th id=\"T_4d56b_level0_row4\" class=\"row_heading level0 row4\" >4</th>\n",
       "      <td id=\"T_4d56b_row4_col0\" class=\"data row4 col0\" >LandSlope</td>\n",
       "      <td id=\"T_4d56b_row4_col1\" class=\"data row4 col1\" >--</td>\n",
       "    </tr>\n",
       "    <tr>\n",
       "      <th id=\"T_4d56b_level0_row5\" class=\"row_heading level0 row5\" >5</th>\n",
       "      <td id=\"T_4d56b_row5_col0\" class=\"data row5 col0\" >LotShape</td>\n",
       "      <td id=\"T_4d56b_row5_col1\" class=\"data row5 col1\" >--</td>\n",
       "    </tr>\n",
       "    <tr>\n",
       "      <th id=\"T_4d56b_level0_row6\" class=\"row_heading level0 row6\" >6</th>\n",
       "      <td id=\"T_4d56b_row6_col0\" class=\"data row6 col0\" >LotFrontage</td>\n",
       "      <td id=\"T_4d56b_row6_col1\" class=\"data row6 col1\" >0.352</td>\n",
       "    </tr>\n",
       "    <tr>\n",
       "      <th id=\"T_4d56b_level0_row7\" class=\"row_heading level0 row7\" >7</th>\n",
       "      <td id=\"T_4d56b_row7_col0\" class=\"data row7 col0\" >LotArea</td>\n",
       "      <td id=\"T_4d56b_row7_col1\" class=\"data row7 col1\" >0.264</td>\n",
       "    </tr>\n",
       "    <tr>\n",
       "      <th id=\"T_4d56b_level0_row8\" class=\"row_heading level0 row8\" >8</th>\n",
       "      <td id=\"T_4d56b_row8_col0\" class=\"data row8 col0\" >Street</td>\n",
       "      <td id=\"T_4d56b_row8_col1\" class=\"data row8 col1\" >--</td>\n",
       "    </tr>\n",
       "  </tbody>\n",
       "</table>\n"
      ],
      "text/plain": [
       "<pandas.io.formats.style.Styler at 0x1d305803d00>"
      ]
     },
     "metadata": {},
     "output_type": "display_data"
    },
    {
     "data": {
      "text/html": [
       "\n",
       "    <h3 style=\"color:#444; border-bottom:1px solid #ccc; margin-bottom:10px;\">\n",
       "        Detailed Column Information:\n",
       "    </h3>\n",
       "    "
      ],
      "text/plain": [
       "<IPython.core.display.HTML object>"
      ]
     },
     "metadata": {},
     "output_type": "display_data"
    },
    {
     "data": {
      "text/html": [
       "\n",
       "        <h4 style=\"color:#666; margin-bottom:0;\">LotConfig</h4>\n",
       "        <hr style=\"border:0; border-bottom:1px solid #ccc; margin:5px 0 10px;\">\n",
       "        "
      ],
      "text/plain": [
       "<IPython.core.display.HTML object>"
      ]
     },
     "metadata": {},
     "output_type": "display_data"
    },
    {
     "name": "stdout",
     "output_type": "stream",
     "text": [
      "\n",
      "Column: LotConfig\n",
      "Type: object\n",
      "Unique Values: Inside, FR2, Corner, CulDSac, FR3\n",
      "--------------------------------------------------\n"
     ]
    },
    {
     "data": {
      "text/html": [
       "\n",
       "        <h4 style=\"color:#666; margin-bottom:0;\">Condition1</h4>\n",
       "        <hr style=\"border:0; border-bottom:1px solid #ccc; margin:5px 0 10px;\">\n",
       "        "
      ],
      "text/plain": [
       "<IPython.core.display.HTML object>"
      ]
     },
     "metadata": {},
     "output_type": "display_data"
    },
    {
     "name": "stdout",
     "output_type": "stream",
     "text": [
      "\n",
      "Column: Condition1\n",
      "Type: object\n",
      "Unique Values: Norm, Feedr, PosN, Artery, RRAe, RRNn, RRAn, PosA, RRNe\n",
      "--------------------------------------------------\n"
     ]
    },
    {
     "data": {
      "text/html": [
       "\n",
       "        <h4 style=\"color:#666; margin-bottom:0;\">Condition2</h4>\n",
       "        <hr style=\"border:0; border-bottom:1px solid #ccc; margin:5px 0 10px;\">\n",
       "        "
      ],
      "text/plain": [
       "<IPython.core.display.HTML object>"
      ]
     },
     "metadata": {},
     "output_type": "display_data"
    },
    {
     "name": "stdout",
     "output_type": "stream",
     "text": [
      "\n",
      "Column: Condition2\n",
      "Type: object\n",
      "Unique Values: Norm, Artery, RRNn, Feedr, PosN, PosA, RRAn, RRAe\n",
      "--------------------------------------------------\n"
     ]
    },
    {
     "data": {
      "text/html": [
       "\n",
       "        <h4 style=\"color:#666; margin-bottom:0;\">LandContour</h4>\n",
       "        <hr style=\"border:0; border-bottom:1px solid #ccc; margin:5px 0 10px;\">\n",
       "        "
      ],
      "text/plain": [
       "<IPython.core.display.HTML object>"
      ]
     },
     "metadata": {},
     "output_type": "display_data"
    },
    {
     "name": "stdout",
     "output_type": "stream",
     "text": [
      "\n",
      "Column: LandContour\n",
      "Type: object\n",
      "Unique Values: Lvl, Bnk, Low, HLS\n",
      "--------------------------------------------------\n"
     ]
    },
    {
     "data": {
      "text/html": [
       "\n",
       "        <h4 style=\"color:#666; margin-bottom:0;\">LandSlope</h4>\n",
       "        <hr style=\"border:0; border-bottom:1px solid #ccc; margin:5px 0 10px;\">\n",
       "        "
      ],
      "text/plain": [
       "<IPython.core.display.HTML object>"
      ]
     },
     "metadata": {},
     "output_type": "display_data"
    },
    {
     "name": "stdout",
     "output_type": "stream",
     "text": [
      "\n",
      "Column: LandSlope\n",
      "Type: object\n",
      "Unique Values: Gtl, Mod, Sev\n",
      "--------------------------------------------------\n"
     ]
    },
    {
     "data": {
      "text/html": [
       "\n",
       "        <h4 style=\"color:#666; margin-bottom:0;\">LotShape</h4>\n",
       "        <hr style=\"border:0; border-bottom:1px solid #ccc; margin:5px 0 10px;\">\n",
       "        "
      ],
      "text/plain": [
       "<IPython.core.display.HTML object>"
      ]
     },
     "metadata": {},
     "output_type": "display_data"
    },
    {
     "name": "stdout",
     "output_type": "stream",
     "text": [
      "\n",
      "Column: LotShape\n",
      "Type: object\n",
      "Unique Values: Reg, IR1, IR2, IR3\n",
      "--------------------------------------------------\n"
     ]
    },
    {
     "data": {
      "text/html": [
       "\n",
       "        <h4 style=\"color:#666; margin-bottom:0;\">LotFrontage</h4>\n",
       "        <hr style=\"border:0; border-bottom:1px solid #ccc; margin:5px 0 10px;\">\n",
       "        "
      ],
      "text/plain": [
       "<IPython.core.display.HTML object>"
      ]
     },
     "metadata": {},
     "output_type": "display_data"
    },
    {
     "name": "stdout",
     "output_type": "stream",
     "text": [
      "\n",
      "Column: LotFrontage\n",
      "Type: float64\n",
      "Unique Values: 65.0, 80.0, 68.0, 60.0, 84.0, 85.0, 75.0, nan, 51.0, 50.0...\n",
      "--------------------------------------------------\n"
     ]
    },
    {
     "data": {
      "text/html": [
       "\n",
       "        <h4 style=\"color:#666; margin-bottom:0;\">LotArea</h4>\n",
       "        <hr style=\"border:0; border-bottom:1px solid #ccc; margin:5px 0 10px;\">\n",
       "        "
      ],
      "text/plain": [
       "<IPython.core.display.HTML object>"
      ]
     },
     "metadata": {},
     "output_type": "display_data"
    },
    {
     "name": "stdout",
     "output_type": "stream",
     "text": [
      "\n",
      "Column: LotArea\n",
      "Type: int64\n",
      "Unique Values: 8450, 9600, 11250, 9550, 14260, 14115, 10084, 10382, 6120, 7420...\n",
      "--------------------------------------------------\n"
     ]
    },
    {
     "data": {
      "text/html": [
       "\n",
       "        <h4 style=\"color:#666; margin-bottom:0;\">Street</h4>\n",
       "        <hr style=\"border:0; border-bottom:1px solid #ccc; margin:5px 0 10px;\">\n",
       "        "
      ],
      "text/plain": [
       "<IPython.core.display.HTML object>"
      ]
     },
     "metadata": {},
     "output_type": "display_data"
    },
    {
     "name": "stdout",
     "output_type": "stream",
     "text": [
      "\n",
      "Column: Street\n",
      "Type: object\n",
      "Unique Values: Pave, Grvl\n",
      "--------------------------------------------------\n"
     ]
    },
    {
     "data": {
      "text/html": [
       "\n",
       "    <div style=\"border: 2px solid #444; padding: 10px; margin-bottom: 10px; background-color: #f2f2f2;\">\n",
       "        <h2 style=\"margin: 0; color: #444;\">Category: OVERALL</h2>\n",
       "    </div>\n",
       "    "
      ],
      "text/plain": [
       "<IPython.core.display.HTML object>"
      ]
     },
     "metadata": {},
     "output_type": "display_data"
    },
    {
     "data": {
      "text/html": [
       "<style type=\"text/css\">\n",
       "#T_b330e th {\n",
       "  background-color: #f7f7f7;\n",
       "  color: #333;\n",
       "  font-weight: bold;\n",
       "  padding: 5px;\n",
       "}\n",
       "#T_b330e td {\n",
       "  padding: 5px;\n",
       "}\n",
       "</style>\n",
       "<table id=\"T_b330e\">\n",
       "  <caption>Columns and Correlations</caption>\n",
       "  <thead>\n",
       "    <tr>\n",
       "      <th class=\"blank level0\" >&nbsp;</th>\n",
       "      <th id=\"T_b330e_level0_col0\" class=\"col_heading level0 col0\" >Column</th>\n",
       "      <th id=\"T_b330e_level0_col1\" class=\"col_heading level0 col1\" >Correlation with SalePrice</th>\n",
       "    </tr>\n",
       "  </thead>\n",
       "  <tbody>\n",
       "    <tr>\n",
       "      <th id=\"T_b330e_level0_row0\" class=\"row_heading level0 row0\" >0</th>\n",
       "      <td id=\"T_b330e_row0_col0\" class=\"data row0 col0\" >Foundation</td>\n",
       "      <td id=\"T_b330e_row0_col1\" class=\"data row0 col1\" >--</td>\n",
       "    </tr>\n",
       "    <tr>\n",
       "      <th id=\"T_b330e_level0_row1\" class=\"row_heading level0 row1\" >1</th>\n",
       "      <td id=\"T_b330e_row1_col0\" class=\"data row1 col0\" >YearBuilt</td>\n",
       "      <td id=\"T_b330e_row1_col1\" class=\"data row1 col1\" >0.523</td>\n",
       "    </tr>\n",
       "  </tbody>\n",
       "</table>\n"
      ],
      "text/plain": [
       "<pandas.io.formats.style.Styler at 0x1d3058035b0>"
      ]
     },
     "metadata": {},
     "output_type": "display_data"
    },
    {
     "data": {
      "text/html": [
       "\n",
       "    <h3 style=\"color:#444; border-bottom:1px solid #ccc; margin-bottom:10px;\">\n",
       "        Detailed Column Information:\n",
       "    </h3>\n",
       "    "
      ],
      "text/plain": [
       "<IPython.core.display.HTML object>"
      ]
     },
     "metadata": {},
     "output_type": "display_data"
    },
    {
     "data": {
      "text/html": [
       "\n",
       "        <h4 style=\"color:#666; margin-bottom:0;\">Foundation</h4>\n",
       "        <hr style=\"border:0; border-bottom:1px solid #ccc; margin:5px 0 10px;\">\n",
       "        "
      ],
      "text/plain": [
       "<IPython.core.display.HTML object>"
      ]
     },
     "metadata": {},
     "output_type": "display_data"
    },
    {
     "name": "stdout",
     "output_type": "stream",
     "text": [
      "\n",
      "Column: Foundation\n",
      "Type: object\n",
      "Unique Values: PConc, CBlock, BrkTil, Wood, Slab, Stone\n",
      "--------------------------------------------------\n"
     ]
    },
    {
     "data": {
      "text/html": [
       "\n",
       "        <h4 style=\"color:#666; margin-bottom:0;\">YearBuilt</h4>\n",
       "        <hr style=\"border:0; border-bottom:1px solid #ccc; margin:5px 0 10px;\">\n",
       "        "
      ],
      "text/plain": [
       "<IPython.core.display.HTML object>"
      ]
     },
     "metadata": {},
     "output_type": "display_data"
    },
    {
     "name": "stdout",
     "output_type": "stream",
     "text": [
      "\n",
      "Column: YearBuilt\n",
      "Type: int64\n",
      "Unique Values: 2003, 1976, 2001, 1915, 2000, 1993, 2004, 1973, 1931, 1939...\n",
      "--------------------------------------------------\n"
     ]
    },
    {
     "data": {
      "text/html": [
       "\n",
       "    <div style=\"border: 2px solid #444; padding: 10px; margin-bottom: 10px; background-color: #f2f2f2;\">\n",
       "        <h2 style=\"margin: 0; color: #444;\">Category: POOL</h2>\n",
       "    </div>\n",
       "    "
      ],
      "text/plain": [
       "<IPython.core.display.HTML object>"
      ]
     },
     "metadata": {},
     "output_type": "display_data"
    },
    {
     "data": {
      "text/html": [
       "<style type=\"text/css\">\n",
       "#T_23205 th {\n",
       "  background-color: #f7f7f7;\n",
       "  color: #333;\n",
       "  font-weight: bold;\n",
       "  padding: 5px;\n",
       "}\n",
       "#T_23205 td {\n",
       "  padding: 5px;\n",
       "}\n",
       "</style>\n",
       "<table id=\"T_23205\">\n",
       "  <caption>Columns and Correlations</caption>\n",
       "  <thead>\n",
       "    <tr>\n",
       "      <th class=\"blank level0\" >&nbsp;</th>\n",
       "      <th id=\"T_23205_level0_col0\" class=\"col_heading level0 col0\" >Column</th>\n",
       "      <th id=\"T_23205_level0_col1\" class=\"col_heading level0 col1\" >Correlation with SalePrice</th>\n",
       "    </tr>\n",
       "  </thead>\n",
       "  <tbody>\n",
       "    <tr>\n",
       "      <th id=\"T_23205_level0_row0\" class=\"row_heading level0 row0\" >0</th>\n",
       "      <td id=\"T_23205_row0_col0\" class=\"data row0 col0\" >PoolArea</td>\n",
       "      <td id=\"T_23205_row0_col1\" class=\"data row0 col1\" >0.092</td>\n",
       "    </tr>\n",
       "  </tbody>\n",
       "</table>\n"
      ],
      "text/plain": [
       "<pandas.io.formats.style.Styler at 0x1d305803520>"
      ]
     },
     "metadata": {},
     "output_type": "display_data"
    },
    {
     "data": {
      "text/html": [
       "\n",
       "    <h3 style=\"color:#444; border-bottom:1px solid #ccc; margin-bottom:10px;\">\n",
       "        Detailed Column Information:\n",
       "    </h3>\n",
       "    "
      ],
      "text/plain": [
       "<IPython.core.display.HTML object>"
      ]
     },
     "metadata": {},
     "output_type": "display_data"
    },
    {
     "data": {
      "text/html": [
       "\n",
       "        <h4 style=\"color:#666; margin-bottom:0;\">PoolArea</h4>\n",
       "        <hr style=\"border:0; border-bottom:1px solid #ccc; margin:5px 0 10px;\">\n",
       "        "
      ],
      "text/plain": [
       "<IPython.core.display.HTML object>"
      ]
     },
     "metadata": {},
     "output_type": "display_data"
    },
    {
     "name": "stdout",
     "output_type": "stream",
     "text": [
      "\n",
      "Column: PoolArea\n",
      "Type: int64\n",
      "Unique Values: 0, 512, 648, 576, 555, 480, 519, 738\n",
      "--------------------------------------------------\n"
     ]
    },
    {
     "data": {
      "text/html": [
       "\n",
       "    <div style=\"border: 2px solid #444; padding: 10px; margin-bottom: 10px; background-color: #f2f2f2;\">\n",
       "        <h2 style=\"margin: 0; color: #444;\">Category: PORCH</h2>\n",
       "    </div>\n",
       "    "
      ],
      "text/plain": [
       "<IPython.core.display.HTML object>"
      ]
     },
     "metadata": {},
     "output_type": "display_data"
    },
    {
     "data": {
      "text/html": [
       "<style type=\"text/css\">\n",
       "#T_e4084 th {\n",
       "  background-color: #f7f7f7;\n",
       "  color: #333;\n",
       "  font-weight: bold;\n",
       "  padding: 5px;\n",
       "}\n",
       "#T_e4084 td {\n",
       "  padding: 5px;\n",
       "}\n",
       "</style>\n",
       "<table id=\"T_e4084\">\n",
       "  <caption>Columns and Correlations</caption>\n",
       "  <thead>\n",
       "    <tr>\n",
       "      <th class=\"blank level0\" >&nbsp;</th>\n",
       "      <th id=\"T_e4084_level0_col0\" class=\"col_heading level0 col0\" >Column</th>\n",
       "      <th id=\"T_e4084_level0_col1\" class=\"col_heading level0 col1\" >Correlation with SalePrice</th>\n",
       "    </tr>\n",
       "  </thead>\n",
       "  <tbody>\n",
       "    <tr>\n",
       "      <th id=\"T_e4084_level0_row0\" class=\"row_heading level0 row0\" >0</th>\n",
       "      <td id=\"T_e4084_row0_col0\" class=\"data row0 col0\" >EnclosedPorch</td>\n",
       "      <td id=\"T_e4084_row0_col1\" class=\"data row0 col1\" >-0.129</td>\n",
       "    </tr>\n",
       "    <tr>\n",
       "      <th id=\"T_e4084_level0_row1\" class=\"row_heading level0 row1\" >1</th>\n",
       "      <td id=\"T_e4084_row1_col0\" class=\"data row1 col0\" >OpenPorchSF</td>\n",
       "      <td id=\"T_e4084_row1_col1\" class=\"data row1 col1\" >0.316</td>\n",
       "    </tr>\n",
       "    <tr>\n",
       "      <th id=\"T_e4084_level0_row2\" class=\"row_heading level0 row2\" >2</th>\n",
       "      <td id=\"T_e4084_row2_col0\" class=\"data row2 col0\" >ScreenPorch</td>\n",
       "      <td id=\"T_e4084_row2_col1\" class=\"data row2 col1\" >0.111</td>\n",
       "    </tr>\n",
       "    <tr>\n",
       "      <th id=\"T_e4084_level0_row3\" class=\"row_heading level0 row3\" >3</th>\n",
       "      <td id=\"T_e4084_row3_col0\" class=\"data row3 col0\" >3SsnPorch</td>\n",
       "      <td id=\"T_e4084_row3_col1\" class=\"data row3 col1\" >0.045</td>\n",
       "    </tr>\n",
       "  </tbody>\n",
       "</table>\n"
      ],
      "text/plain": [
       "<pandas.io.formats.style.Styler at 0x1d3057f1be0>"
      ]
     },
     "metadata": {},
     "output_type": "display_data"
    },
    {
     "data": {
      "text/html": [
       "\n",
       "    <h3 style=\"color:#444; border-bottom:1px solid #ccc; margin-bottom:10px;\">\n",
       "        Detailed Column Information:\n",
       "    </h3>\n",
       "    "
      ],
      "text/plain": [
       "<IPython.core.display.HTML object>"
      ]
     },
     "metadata": {},
     "output_type": "display_data"
    },
    {
     "data": {
      "text/html": [
       "\n",
       "        <h4 style=\"color:#666; margin-bottom:0;\">EnclosedPorch</h4>\n",
       "        <hr style=\"border:0; border-bottom:1px solid #ccc; margin:5px 0 10px;\">\n",
       "        "
      ],
      "text/plain": [
       "<IPython.core.display.HTML object>"
      ]
     },
     "metadata": {},
     "output_type": "display_data"
    },
    {
     "name": "stdout",
     "output_type": "stream",
     "text": [
      "\n",
      "Column: EnclosedPorch\n",
      "Type: int64\n",
      "Unique Values: 0, 272, 228, 205, 176, 87, 172, 102, 37, 144...\n",
      "--------------------------------------------------\n"
     ]
    },
    {
     "data": {
      "text/html": [
       "\n",
       "        <h4 style=\"color:#666; margin-bottom:0;\">OpenPorchSF</h4>\n",
       "        <hr style=\"border:0; border-bottom:1px solid #ccc; margin:5px 0 10px;\">\n",
       "        "
      ],
      "text/plain": [
       "<IPython.core.display.HTML object>"
      ]
     },
     "metadata": {},
     "output_type": "display_data"
    },
    {
     "name": "stdout",
     "output_type": "stream",
     "text": [
      "\n",
      "Column: OpenPorchSF\n",
      "Type: int64\n",
      "Unique Values: 61, 0, 42, 35, 84, 30, 57, 204, 4, 21...\n",
      "--------------------------------------------------\n"
     ]
    },
    {
     "data": {
      "text/html": [
       "\n",
       "        <h4 style=\"color:#666; margin-bottom:0;\">ScreenPorch</h4>\n",
       "        <hr style=\"border:0; border-bottom:1px solid #ccc; margin:5px 0 10px;\">\n",
       "        "
      ],
      "text/plain": [
       "<IPython.core.display.HTML object>"
      ]
     },
     "metadata": {},
     "output_type": "display_data"
    },
    {
     "name": "stdout",
     "output_type": "stream",
     "text": [
      "\n",
      "Column: ScreenPorch\n",
      "Type: int64\n",
      "Unique Values: 0, 176, 198, 291, 252, 99, 184, 168, 130, 142...\n",
      "--------------------------------------------------\n"
     ]
    },
    {
     "data": {
      "text/html": [
       "\n",
       "        <h4 style=\"color:#666; margin-bottom:0;\">3SsnPorch</h4>\n",
       "        <hr style=\"border:0; border-bottom:1px solid #ccc; margin:5px 0 10px;\">\n",
       "        "
      ],
      "text/plain": [
       "<IPython.core.display.HTML object>"
      ]
     },
     "metadata": {},
     "output_type": "display_data"
    },
    {
     "name": "stdout",
     "output_type": "stream",
     "text": [
      "\n",
      "Column: 3SsnPorch\n",
      "Type: int64\n",
      "Unique Values: 0, 320, 407, 130, 180, 168, 140, 508, 238, 245...\n",
      "--------------------------------------------------\n"
     ]
    },
    {
     "data": {
      "text/html": [
       "\n",
       "    <div style=\"border: 2px solid #444; padding: 10px; margin-bottom: 10px; background-color: #f2f2f2;\">\n",
       "        <h2 style=\"margin: 0; color: #444;\">Category: ROOF</h2>\n",
       "    </div>\n",
       "    "
      ],
      "text/plain": [
       "<IPython.core.display.HTML object>"
      ]
     },
     "metadata": {},
     "output_type": "display_data"
    },
    {
     "data": {
      "text/html": [
       "<style type=\"text/css\">\n",
       "#T_f8274 th {\n",
       "  background-color: #f7f7f7;\n",
       "  color: #333;\n",
       "  font-weight: bold;\n",
       "  padding: 5px;\n",
       "}\n",
       "#T_f8274 td {\n",
       "  padding: 5px;\n",
       "}\n",
       "</style>\n",
       "<table id=\"T_f8274\">\n",
       "  <caption>Columns and Correlations</caption>\n",
       "  <thead>\n",
       "    <tr>\n",
       "      <th class=\"blank level0\" >&nbsp;</th>\n",
       "      <th id=\"T_f8274_level0_col0\" class=\"col_heading level0 col0\" >Column</th>\n",
       "      <th id=\"T_f8274_level0_col1\" class=\"col_heading level0 col1\" >Correlation with SalePrice</th>\n",
       "    </tr>\n",
       "  </thead>\n",
       "  <tbody>\n",
       "    <tr>\n",
       "      <th id=\"T_f8274_level0_row0\" class=\"row_heading level0 row0\" >0</th>\n",
       "      <td id=\"T_f8274_row0_col0\" class=\"data row0 col0\" >RoofMatl</td>\n",
       "      <td id=\"T_f8274_row0_col1\" class=\"data row0 col1\" >--</td>\n",
       "    </tr>\n",
       "    <tr>\n",
       "      <th id=\"T_f8274_level0_row1\" class=\"row_heading level0 row1\" >1</th>\n",
       "      <td id=\"T_f8274_row1_col0\" class=\"data row1 col0\" >RoofStyle</td>\n",
       "      <td id=\"T_f8274_row1_col1\" class=\"data row1 col1\" >--</td>\n",
       "    </tr>\n",
       "  </tbody>\n",
       "</table>\n"
      ],
      "text/plain": [
       "<pandas.io.formats.style.Styler at 0x1d3057e4b20>"
      ]
     },
     "metadata": {},
     "output_type": "display_data"
    },
    {
     "data": {
      "text/html": [
       "\n",
       "    <h3 style=\"color:#444; border-bottom:1px solid #ccc; margin-bottom:10px;\">\n",
       "        Detailed Column Information:\n",
       "    </h3>\n",
       "    "
      ],
      "text/plain": [
       "<IPython.core.display.HTML object>"
      ]
     },
     "metadata": {},
     "output_type": "display_data"
    },
    {
     "data": {
      "text/html": [
       "\n",
       "        <h4 style=\"color:#666; margin-bottom:0;\">RoofMatl</h4>\n",
       "        <hr style=\"border:0; border-bottom:1px solid #ccc; margin:5px 0 10px;\">\n",
       "        "
      ],
      "text/plain": [
       "<IPython.core.display.HTML object>"
      ]
     },
     "metadata": {},
     "output_type": "display_data"
    },
    {
     "name": "stdout",
     "output_type": "stream",
     "text": [
      "\n",
      "Column: RoofMatl\n",
      "Type: object\n",
      "Unique Values: CompShg, WdShngl, Metal, WdShake, Membran, Tar&Grv, Roll, ClyTile\n",
      "--------------------------------------------------\n"
     ]
    },
    {
     "data": {
      "text/html": [
       "\n",
       "        <h4 style=\"color:#666; margin-bottom:0;\">RoofStyle</h4>\n",
       "        <hr style=\"border:0; border-bottom:1px solid #ccc; margin:5px 0 10px;\">\n",
       "        "
      ],
      "text/plain": [
       "<IPython.core.display.HTML object>"
      ]
     },
     "metadata": {},
     "output_type": "display_data"
    },
    {
     "name": "stdout",
     "output_type": "stream",
     "text": [
      "\n",
      "Column: RoofStyle\n",
      "Type: object\n",
      "Unique Values: Gable, Hip, Gambrel, Mansard, Flat, Shed\n",
      "--------------------------------------------------\n"
     ]
    },
    {
     "data": {
      "text/html": [
       "\n",
       "    <div style=\"border: 2px solid #444; padding: 10px; margin-bottom: 10px; background-color: #f2f2f2;\">\n",
       "        <h2 style=\"margin: 0; color: #444;\">Category: SALE_INFO</h2>\n",
       "    </div>\n",
       "    "
      ],
      "text/plain": [
       "<IPython.core.display.HTML object>"
      ]
     },
     "metadata": {},
     "output_type": "display_data"
    },
    {
     "data": {
      "text/html": [
       "<style type=\"text/css\">\n",
       "#T_d6526 th {\n",
       "  background-color: #f7f7f7;\n",
       "  color: #333;\n",
       "  font-weight: bold;\n",
       "  padding: 5px;\n",
       "}\n",
       "#T_d6526 td {\n",
       "  padding: 5px;\n",
       "}\n",
       "</style>\n",
       "<table id=\"T_d6526\">\n",
       "  <caption>Columns and Correlations</caption>\n",
       "  <thead>\n",
       "    <tr>\n",
       "      <th class=\"blank level0\" >&nbsp;</th>\n",
       "      <th id=\"T_d6526_level0_col0\" class=\"col_heading level0 col0\" >Column</th>\n",
       "      <th id=\"T_d6526_level0_col1\" class=\"col_heading level0 col1\" >Correlation with SalePrice</th>\n",
       "    </tr>\n",
       "  </thead>\n",
       "  <tbody>\n",
       "    <tr>\n",
       "      <th id=\"T_d6526_level0_row0\" class=\"row_heading level0 row0\" >0</th>\n",
       "      <td id=\"T_d6526_row0_col0\" class=\"data row0 col0\" >MoSold</td>\n",
       "      <td id=\"T_d6526_row0_col1\" class=\"data row0 col1\" >0.046</td>\n",
       "    </tr>\n",
       "    <tr>\n",
       "      <th id=\"T_d6526_level0_row1\" class=\"row_heading level0 row1\" >1</th>\n",
       "      <td id=\"T_d6526_row1_col0\" class=\"data row1 col0\" >SaleCondition</td>\n",
       "      <td id=\"T_d6526_row1_col1\" class=\"data row1 col1\" >--</td>\n",
       "    </tr>\n",
       "    <tr>\n",
       "      <th id=\"T_d6526_level0_row2\" class=\"row_heading level0 row2\" >2</th>\n",
       "      <td id=\"T_d6526_row2_col0\" class=\"data row2 col0\" >SaleType</td>\n",
       "      <td id=\"T_d6526_row2_col1\" class=\"data row2 col1\" >--</td>\n",
       "    </tr>\n",
       "    <tr>\n",
       "      <th id=\"T_d6526_level0_row3\" class=\"row_heading level0 row3\" >3</th>\n",
       "      <td id=\"T_d6526_row3_col0\" class=\"data row3 col0\" >YrSold</td>\n",
       "      <td id=\"T_d6526_row3_col1\" class=\"data row3 col1\" >-0.029</td>\n",
       "    </tr>\n",
       "  </tbody>\n",
       "</table>\n"
      ],
      "text/plain": [
       "<pandas.io.formats.style.Styler at 0x1d3057f1f70>"
      ]
     },
     "metadata": {},
     "output_type": "display_data"
    },
    {
     "data": {
      "text/html": [
       "\n",
       "    <h3 style=\"color:#444; border-bottom:1px solid #ccc; margin-bottom:10px;\">\n",
       "        Detailed Column Information:\n",
       "    </h3>\n",
       "    "
      ],
      "text/plain": [
       "<IPython.core.display.HTML object>"
      ]
     },
     "metadata": {},
     "output_type": "display_data"
    },
    {
     "data": {
      "text/html": [
       "\n",
       "        <h4 style=\"color:#666; margin-bottom:0;\">MoSold</h4>\n",
       "        <hr style=\"border:0; border-bottom:1px solid #ccc; margin:5px 0 10px;\">\n",
       "        "
      ],
      "text/plain": [
       "<IPython.core.display.HTML object>"
      ]
     },
     "metadata": {},
     "output_type": "display_data"
    },
    {
     "name": "stdout",
     "output_type": "stream",
     "text": [
      "\n",
      "Column: MoSold\n",
      "Type: int64\n",
      "Unique Values: 2, 5, 9, 12, 10, 8, 11, 4, 1, 7...\n",
      "--------------------------------------------------\n"
     ]
    },
    {
     "data": {
      "text/html": [
       "\n",
       "        <h4 style=\"color:#666; margin-bottom:0;\">SaleCondition</h4>\n",
       "        <hr style=\"border:0; border-bottom:1px solid #ccc; margin:5px 0 10px;\">\n",
       "        "
      ],
      "text/plain": [
       "<IPython.core.display.HTML object>"
      ]
     },
     "metadata": {},
     "output_type": "display_data"
    },
    {
     "name": "stdout",
     "output_type": "stream",
     "text": [
      "\n",
      "Column: SaleCondition\n",
      "Type: object\n",
      "Unique Values: Normal, Abnorml, Partial, AdjLand, Alloca, Family\n",
      "--------------------------------------------------\n"
     ]
    },
    {
     "data": {
      "text/html": [
       "\n",
       "        <h4 style=\"color:#666; margin-bottom:0;\">SaleType</h4>\n",
       "        <hr style=\"border:0; border-bottom:1px solid #ccc; margin:5px 0 10px;\">\n",
       "        "
      ],
      "text/plain": [
       "<IPython.core.display.HTML object>"
      ]
     },
     "metadata": {},
     "output_type": "display_data"
    },
    {
     "name": "stdout",
     "output_type": "stream",
     "text": [
      "\n",
      "Column: SaleType\n",
      "Type: object\n",
      "Unique Values: WD, New, COD, ConLD, ConLI, CWD, ConLw, Con, Oth\n",
      "--------------------------------------------------\n"
     ]
    },
    {
     "data": {
      "text/html": [
       "\n",
       "        <h4 style=\"color:#666; margin-bottom:0;\">YrSold</h4>\n",
       "        <hr style=\"border:0; border-bottom:1px solid #ccc; margin:5px 0 10px;\">\n",
       "        "
      ],
      "text/plain": [
       "<IPython.core.display.HTML object>"
      ]
     },
     "metadata": {},
     "output_type": "display_data"
    },
    {
     "name": "stdout",
     "output_type": "stream",
     "text": [
      "\n",
      "Column: YrSold\n",
      "Type: int64\n",
      "Unique Values: 2008, 2007, 2006, 2009, 2010\n",
      "--------------------------------------------------\n"
     ]
    }
   ],
   "source": [
    "categories_to_display = [\"basement\", \"bath\", \"exterior\", \"fireplace\", \"garage\",\n",
    "                         \"general\", \"interior\", \"kitchen\", \"lot\", \"overall\",\n",
    "                         \"pool\", \"porch\", \"roof\", \"sale_info\"]  \n",
    "\n",
    "for cat in categories_to_display:  \n",
    "    display_category_info(train, cat)  "
   ]
  }
 ],
 "metadata": {
  "kernelspec": {
   "display_name": "tfdf_env",
   "language": "python",
   "name": "python3"
  },
  "language_info": {
   "codemirror_mode": {
    "name": "ipython",
    "version": 3
   },
   "file_extension": ".py",
   "mimetype": "text/x-python",
   "name": "python",
   "nbconvert_exporter": "python",
   "pygments_lexer": "ipython3",
   "version": "3.9.21"
  }
 },
 "nbformat": 4,
 "nbformat_minor": 4
}
